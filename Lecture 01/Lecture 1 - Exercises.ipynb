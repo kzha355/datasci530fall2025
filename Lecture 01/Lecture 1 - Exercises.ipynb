{
 "cells": [
  {
   "attachments": {},
   "cell_type": "markdown",
   "metadata": {},
   "source": [
    "# Lecture 1 Exercises"
   ]
  },
  {
   "cell_type": "markdown",
   "metadata": {},
   "source": [
    "\n",
    "\n",
    "## Short Questions\n",
    "\n",
    "<font size = \"5\">\n",
    "\n",
    "1. What is the difference between a list and an array?\n",
    "2. Consider the list <br>\n",
    "\n",
    "```list_colors = [\"red\",\"yellow\",\"green\"]``` <br>\n",
    "\n",
    "What is the output of ```list_colors[0]``` and <br>\n",
    "```list_colors[1]```?\n",
    "\n",
    "3. How do you concatenate two strings? \n",
    "4. What does the error \"not defined\" mean?\n",
    "5. What does the error \"could not be broadcast\" mean?\n",
    "6. How do you compute the median of an array?\n"
   ]
  },
  {
   "cell_type": "code",
   "execution_count": null,
   "metadata": {},
   "outputs": [
    {
     "data": {
      "text/plain": [
       "'red'"
      ]
     },
     "execution_count": 1,
     "metadata": {},
     "output_type": "execute_result"
    }
   ],
   "source": [
    "# Write your answers here as comments:\n",
    "# 1.list can contain numbers, tuples, strings, but array can only be made of numbers. Array can do matrix calculation, but list can't.\n",
    "# 2.list_colors[0] will output 'red', list_color[1] will output 'yellow'. \n",
    "# 3. We can use + to concatenate two strings, like print(\"hello\" + \"world\"), then we will have \"hello world\".\n",
    "# 4. It means python is trying to use the variable yet, but we haven't create it, so the python does not know what it refers to.\n",
    "# 5. It means the shapes of the arrays do not match.\n",
    "# 6. I want to compute the median of array a, I write np.median(a)\n",
    "\n",
    "\n",
    "\n"
   ]
  },
  {
   "cell_type": "markdown",
   "metadata": {},
   "source": [
    "\n",
    "\n",
    "## Long Questions"
   ]
  },
  {
   "attachments": {},
   "cell_type": "markdown",
   "metadata": {},
   "source": [
    "<font size = \"5\">\n",
    "\n",
    "(a) Import the pandas, matplotlib, and numpy packages"
   ]
  },
  {
   "cell_type": "code",
<<<<<<< Updated upstream
<<<<<<< Updated upstream
<<<<<<< Updated upstream
   "execution_count": 1,
=======
   "execution_count": 2,
>>>>>>> Stashed changes
=======
   "execution_count": 2,
>>>>>>> Stashed changes
=======
   "execution_count": 2,
>>>>>>> Stashed changes
   "metadata": {},
   "outputs": [],
   "source": [
    "# Write your own code\n",
<<<<<<< Updated upstream
<<<<<<< Updated upstream
<<<<<<< Updated upstream
    "\n",
=======
>>>>>>> Stashed changes
=======
>>>>>>> Stashed changes
=======
>>>>>>> Stashed changes
    "import pandas as pd\n",
    "import matplotlib.pyplot as plt\n",
    "import numpy as np\n",
    "\n"
   ]
  },
  {
   "attachments": {},
   "cell_type": "markdown",
   "metadata": {},
   "source": [
    "<font size = \"5\">\n",
    "\n",
    "(b) Open the dataset \"worldbank_wdi_2019.csv\" <br>\n",
    "in the \"data\" folder\n",
    "\n",
    "<font size = \"3\">\n",
    "\n",
    "- Read it as a pandas object called \"wdi\"\n",
    "- Note: This is a subset of the World Development Indicators for 2019\n",
    "- Each observation represents a different country"
   ]
  },
  {
   "cell_type": "code",
<<<<<<< Updated upstream
<<<<<<< Updated upstream
<<<<<<< Updated upstream
   "execution_count": 2,
=======
   "execution_count": 9,
>>>>>>> Stashed changes
=======
   "execution_count": 9,
>>>>>>> Stashed changes
=======
   "execution_count": 9,
>>>>>>> Stashed changes
   "metadata": {},
   "outputs": [],
   "source": [
    "wdi = pd.read_csv(\"data/worldbank_wdi_2019.csv\")\n",
    "\n",
    "wdi = pd.read_csv(\"data/worldbank_wdi_2019.csv\")\n",
    "\n"
   ]
  },
  {
   "attachments": {},
   "cell_type": "markdown",
   "metadata": {},
   "source": [
    "<font size = \"5\">\n",
    "\n",
    "(c) Browse the dataset and manually create <br>\n",
    "a list of variable names\n",
    "\n"
   ]
  },
  {
   "cell_type": "code",
   "execution_count": 6,
   "metadata": {},
   "outputs": [
    {
     "data": {
      "application/vnd.microsoft.datawrangler.viewer.v0+json": {
       "columns": [
        {
         "name": "index",
         "rawType": "int64",
         "type": "integer"
        },
        {
         "name": "year",
         "rawType": "object",
         "type": "unknown"
        },
        {
         "name": "country_name",
         "rawType": "object",
         "type": "unknown"
        },
        {
         "name": "life_expectancy",
         "rawType": "float64",
         "type": "float"
        },
        {
         "name": "gdp_per_capita_usd",
         "rawType": "float64",
         "type": "float"
        }
       ],
       "ref": "62ed1c37-033c-4e5c-8384-0d8c9d07e8fd",
       "rows": [
        [
         "0",
         "2019",
         "Afghanistan",
         "63.565",
         "500.5226641"
        ],
        [
         "1",
         "2019",
         "Albania",
         "79.282",
         "5396.215864"
        ],
        [
         "2",
         "2019",
         "Algeria",
         "76.474",
         "4022.150184"
        ],
        [
         "3",
         "2019",
         "American Samoa",
         null,
         "13672.57666"
        ],
        [
         "4",
         "2019",
         "Andorra",
         null,
         "41327.50203"
        ],
        [
         "5",
         "2019",
         "Angola",
         "62.448",
         "2142.238757"
        ],
        [
         "6",
         "2019",
         "Antigua and Barbuda",
         "78.691",
         "18319.45605"
        ],
        [
         "7",
         "2019",
         "Argentina",
         "77.284",
         "9963.672506"
        ],
        [
         "8",
         "2019",
         "Armenia",
         "75.439",
         "4828.505178"
        ],
        [
         "9",
         "2019",
         "Aruba",
         "76.248",
         "31650.76054"
        ],
        [
         "10",
         "2019",
         "Australia",
         "82.9",
         "54941.43418"
        ],
        [
         "11",
         "2019",
         "Austria",
         "81.89512195",
         "50070.40335"
        ],
        [
         "12",
         "2019",
         "Azerbaijan",
         "73.102",
         "4805.753718"
        ],
        [
         "13",
         "2019",
         "Bahamas, The",
         "71.205",
         "32610.48505"
        ],
        [
         "14",
         "2019",
         "Bahrain",
         "80.019",
         "25869.11291"
        ],
        [
         "15",
         "2019",
         "Bangladesh",
         "72.806",
         "2122.078851"
        ],
        [
         "16",
         "2019",
         "Barbados",
         "77.257",
         "19002.96238"
        ],
        [
         "17",
         "2019",
         "Belarus",
         "74.22682927",
         "6837.717826"
        ],
        [
         "18",
         "2019",
         "Belgium",
         "81.99512195",
         "46638.68131"
        ],
        [
         "19",
         "2019",
         "Belize",
         "73.931",
         "6210.565543"
        ],
        [
         "20",
         "2019",
         "Benin",
         "60.454",
         "1170.965533"
        ],
        [
         "21",
         "2019",
         "Bermuda",
         "81.86658537",
         "116153.1661"
        ],
        [
         "22",
         "2019",
         "Bhutan",
         "71.391",
         "3303.964211"
        ],
        [
         "23",
         "2019",
         "Bolivia",
         "67.841",
         "3472.380831"
        ],
        [
         "24",
         "2019",
         "Bosnia and Herzegovina",
         "77.241",
         "6011.370671"
        ],
        [
         "25",
         "2019",
         "Botswana",
         "65.464",
         "6679.167674"
        ],
        [
         "26",
         "2019",
         "Brazil",
         "75.338",
         "8845.259118"
        ],
        [
         "27",
         "2019",
         "British Virgin Islands",
         "75.863",
         null
        ],
        [
         "28",
         "2019",
         "Brunei Darussalam",
         "74.748",
         "30748.73749"
        ],
        [
         "29",
         "2019",
         "Bulgaria",
         "75.11219512",
         "9879.334343"
        ],
        [
         "30",
         "2019",
         "Burkina Faso",
         "60.039",
         "772.1668949"
        ],
        [
         "31",
         "2019",
         "Burundi",
         "62.351",
         "216.9729681"
        ],
        [
         "32",
         "2019",
         "Cabo Verde",
         "76.004",
         "3434.562745"
        ],
        [
         "33",
         "2019",
         "Cambodia",
         "70.692",
         "1671.385385"
        ],
        [
         "34",
         "2019",
         "Cameroon",
         "61.584",
         "1538.687947"
        ],
        [
         "35",
         "2019",
         "Canada",
         "82.04878049",
         "46328.67184"
        ],
        [
         "36",
         "2019",
         "Cayman Islands",
         null,
         "89871.91314"
        ],
        [
         "37",
         "2019",
         "Central African Republic",
         "55.025",
         "426.4087626"
        ],
        [
         "38",
         "2019",
         "Chad",
         "53.259",
         "701.6212166"
        ],
        [
         "39",
         "2019",
         "Channel Islands",
         "81.39",
         null
        ],
        [
         "40",
         "2019",
         "Chile",
         "80.326",
         "14631.94688"
        ],
        [
         "41",
         "2019",
         "China",
         "77.968",
         "10143.8382"
        ],
        [
         "42",
         "2019",
         "Colombia",
         "76.752",
         "6438.060183"
        ],
        [
         "43",
         "2019",
         "Comoros",
         "64.068",
         "1510.797358"
        ],
        [
         "44",
         "2019",
         "Congo, Dem. Rep.",
         "60.276",
         "575.8827908"
        ],
        [
         "45",
         "2019",
         "Congo, Rep.",
         "62.747",
         "2288.808138"
        ],
        [
         "46",
         "2019",
         "Costa Rica",
         "79.427",
         "12669.34107"
        ],
        [
         "47",
         "2019",
         "Cote d'Ivoire",
         "59.319",
         "2238.811005"
        ],
        [
         "48",
         "2019",
         "Croatia",
         "78.42439024",
         "15331.88305"
        ],
        [
         "49",
         "2019",
         "Cuba",
         "77.611",
         "9139.415856"
        ]
       ],
       "shape": {
        "columns": 4,
        "rows": 271
       }
      },
      "text/html": [
       "<div>\n",
       "<style scoped>\n",
       "    .dataframe tbody tr th:only-of-type {\n",
       "        vertical-align: middle;\n",
       "    }\n",
       "\n",
       "    .dataframe tbody tr th {\n",
       "        vertical-align: top;\n",
       "    }\n",
       "\n",
       "    .dataframe thead th {\n",
       "        text-align: right;\n",
       "    }\n",
       "</style>\n",
       "<table border=\"1\" class=\"dataframe\">\n",
       "  <thead>\n",
       "    <tr style=\"text-align: right;\">\n",
       "      <th></th>\n",
       "      <th>year</th>\n",
       "      <th>country_name</th>\n",
       "      <th>life_expectancy</th>\n",
       "      <th>gdp_per_capita_usd</th>\n",
       "    </tr>\n",
       "  </thead>\n",
       "  <tbody>\n",
       "    <tr>\n",
       "      <th>0</th>\n",
       "      <td>2019</td>\n",
       "      <td>Afghanistan</td>\n",
       "      <td>63.565</td>\n",
       "      <td>500.522664</td>\n",
       "    </tr>\n",
       "    <tr>\n",
       "      <th>1</th>\n",
       "      <td>2019</td>\n",
       "      <td>Albania</td>\n",
       "      <td>79.282</td>\n",
       "      <td>5396.215864</td>\n",
       "    </tr>\n",
       "    <tr>\n",
       "      <th>2</th>\n",
       "      <td>2019</td>\n",
       "      <td>Algeria</td>\n",
       "      <td>76.474</td>\n",
       "      <td>4022.150184</td>\n",
       "    </tr>\n",
       "    <tr>\n",
       "      <th>3</th>\n",
       "      <td>2019</td>\n",
       "      <td>American Samoa</td>\n",
       "      <td>NaN</td>\n",
       "      <td>13672.576660</td>\n",
       "    </tr>\n",
       "    <tr>\n",
       "      <th>4</th>\n",
       "      <td>2019</td>\n",
       "      <td>Andorra</td>\n",
       "      <td>NaN</td>\n",
       "      <td>41327.502030</td>\n",
       "    </tr>\n",
       "    <tr>\n",
       "      <th>...</th>\n",
       "      <td>...</td>\n",
       "      <td>...</td>\n",
       "      <td>...</td>\n",
       "      <td>...</td>\n",
       "    </tr>\n",
       "    <tr>\n",
       "      <th>266</th>\n",
       "      <td>NaN</td>\n",
       "      <td>NaN</td>\n",
       "      <td>NaN</td>\n",
       "      <td>NaN</td>\n",
       "    </tr>\n",
       "    <tr>\n",
       "      <th>267</th>\n",
       "      <td>NaN</td>\n",
       "      <td>NaN</td>\n",
       "      <td>NaN</td>\n",
       "      <td>NaN</td>\n",
       "    </tr>\n",
       "    <tr>\n",
       "      <th>268</th>\n",
       "      <td>NaN</td>\n",
       "      <td>NaN</td>\n",
       "      <td>NaN</td>\n",
       "      <td>NaN</td>\n",
       "    </tr>\n",
       "    <tr>\n",
       "      <th>269</th>\n",
       "      <td>Data from database: World Development Indicators</td>\n",
       "      <td>NaN</td>\n",
       "      <td>NaN</td>\n",
       "      <td>NaN</td>\n",
       "    </tr>\n",
       "    <tr>\n",
       "      <th>270</th>\n",
       "      <td>Last Updated: 12/22/2022</td>\n",
       "      <td>NaN</td>\n",
       "      <td>NaN</td>\n",
       "      <td>NaN</td>\n",
       "    </tr>\n",
       "  </tbody>\n",
       "</table>\n",
       "<p>271 rows × 4 columns</p>\n",
       "</div>"
      ],
      "text/plain": [
       "                                                 year    country_name  \\\n",
       "0                                                2019     Afghanistan   \n",
       "1                                                2019         Albania   \n",
       "2                                                2019         Algeria   \n",
       "3                                                2019  American Samoa   \n",
       "4                                                2019         Andorra   \n",
       "..                                                ...             ...   \n",
       "266                                               NaN             NaN   \n",
       "267                                               NaN             NaN   \n",
       "268                                               NaN             NaN   \n",
       "269  Data from database: World Development Indicators             NaN   \n",
       "270                          Last Updated: 12/22/2022             NaN   \n",
       "\n",
       "     life_expectancy  gdp_per_capita_usd  \n",
       "0             63.565          500.522664  \n",
       "1             79.282         5396.215864  \n",
       "2             76.474         4022.150184  \n",
       "3                NaN        13672.576660  \n",
       "4                NaN        41327.502030  \n",
       "..               ...                 ...  \n",
       "266              NaN                 NaN  \n",
       "267              NaN                 NaN  \n",
       "268              NaN                 NaN  \n",
       "269              NaN                 NaN  \n",
       "270              NaN                 NaN  \n",
       "\n",
       "[271 rows x 4 columns]"
      ]
     },
     "execution_count": 6,
     "metadata": {},
     "output_type": "execute_result"
    }
   ],
   "source": [
    "# Write your own code\n",
    "# Create a list, e.g. \"variable_names = [ \"name1\", \"name2\", \"name3\" ]\"\n",
    "# Manually type the names of the variables\n",
    "# If you're viewing the dataset from the VS-Code \"Variables\" tool, you'll\n",
    "# see an extra column \"index\". Do not include this in your list.\n",
    "variable_names = [\"year\", \"country_name\", \"life_expectancy\", \"gdp_per_capita_usd\"]\n",
    "wdi\n",
    "\n"
   ]
  },
  {
   "attachments": {},
   "cell_type": "markdown",
   "metadata": {},
   "source": [
    "<font size = \"5\">\n",
    "\n",
    "(d) Compute descriptive statistics for the fourth <br>\n",
    "variable in the dataset\n",
    "\n",
    "<font size = \"3\">\n",
    "\n",
    "- One way to do this is:\n",
    "\n",
    "wdi[\"gdp_per_capita_usd\"].describe()\n",
    "\n",
    "- Do something similar, but with the list you created above.\n",
    "- Substitute \"gdp_per_capita_usd\" with a command that <br>\n",
    "automatically extracts the fourth element in the list"
   ]
  },
  {
   "cell_type": "code",
   "execution_count": 37,
   "metadata": {},
   "outputs": [
    {
     "data": {
      "application/vnd.microsoft.datawrangler.viewer.v0+json": {
       "columns": [
        {
         "name": "index",
         "rawType": "object",
         "type": "string"
        },
        {
         "name": "gdp_per_capita_usd",
         "rawType": "float64",
         "type": "float"
        }
       ],
       "ref": "5610dc30-d63c-4400-94e0-f65e6e22b973",
       "rows": [
        [
         "count",
         "255.0"
        ],
        [
         "mean",
         "17230.94975652353"
        ],
        [
         "std",
         "25792.183785237947"
        ],
        [
         "min",
         "216.9729681"
        ],
        [
         "25%",
         "2186.0465815"
        ],
        [
         "50%",
         "6837.717826"
        ],
        [
         "75%",
         "19809.323135"
        ],
        [
         "max",
         "199377.4818"
        ]
       ],
       "shape": {
        "columns": 1,
        "rows": 8
       }
      },
      "text/plain": [
       "count       255.000000\n",
       "mean      17230.949757\n",
       "std       25792.183785\n",
       "min         216.972968\n",
       "25%        2186.046581\n",
       "50%        6837.717826\n",
       "75%       19809.323135\n",
       "max      199377.481800\n",
       "Name: gdp_per_capita_usd, dtype: float64"
      ]
     },
     "execution_count": 37,
     "metadata": {},
     "output_type": "execute_result"
    }
   ],
   "source": [
    "# Write your own code\n",
    "\n",
    "# Remember that the numbering in Python starts at zero\n",
    "# For example:\n",
    "# list_colors = [\"red\",\"green\",\"yellow\"]\n",
    "# list_colors[2] will output \"yellow\"\n",
    "wdi[variable_names[3]].describe()\n"
   ]
  },
  {
   "attachments": {},
   "cell_type": "markdown",
   "metadata": {},
   "source": [
    "<font size = \"5\">\n",
    "\n",
    "(e) Show a scatter plot that shows \"gdp_per_capita_usd\" <br>\n",
    "in the x-axis and \"lifexpectancy\" in the y-axis. Label the axes."
   ]
  },
  {
   "cell_type": "code",
<<<<<<< Updated upstream
<<<<<<< Updated upstream
<<<<<<< Updated upstream
   "execution_count": 5,
=======
   "execution_count": 8,
>>>>>>> Stashed changes
=======
   "execution_count": 8,
>>>>>>> Stashed changes
=======
   "execution_count": 8,
>>>>>>> Stashed changes
   "metadata": {},
   "outputs": [
    {
     "data": {
<<<<<<< Updated upstream
<<<<<<< Updated upstream
<<<<<<< Updated upstream
      "image/png": "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",
=======
      "image/png": "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",
>>>>>>> Stashed changes
=======
      "image/png": "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",
>>>>>>> Stashed changes
=======
      "image/png": "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",
>>>>>>> Stashed changes
      "text/plain": [
       "<Figure size 640x480 with 1 Axes>"
      ]
     },
     "metadata": {},
     "output_type": "display_data"
    }
   ],
   "source": [
    "# Write your own code\n",
<<<<<<< Updated upstream
<<<<<<< Updated upstream
<<<<<<< Updated upstream
    "\n",
    "variable_names = [\"year\",\"country_name\",\"life_expectancy\",\"gdp_per_capita_usd\"]\n",
    "\n",
    "plt.scatter(x = wdi[\"gdp_per_capita_usd\"],y = wdi[\"life_expectancy\"])\n",
    "plt.xlabel(\"GDP per capita USD\")\n",
    "plt.ylabel(\"Life expectancy\")\n",
    "plt.show()\n",
    "\n",
=======
=======
>>>>>>> Stashed changes
=======
>>>>>>> Stashed changes
    "plt.scatter(x = wdi[\"gdp_per_capita_usd\"], y = wdi[\"life_expectancy\"])\n",
    "plt.xlabel(\"gdp_per_capita_usd\")\n",
    "plt.ylabel(\"life_expectancy\")\n",
    "plt.show()\n",
<<<<<<< Updated upstream
<<<<<<< Updated upstream
>>>>>>> Stashed changes
=======
>>>>>>> Stashed changes
=======
>>>>>>> Stashed changes
    "\n"
   ]
  },
  {
   "cell_type": "markdown",
   "metadata": {},
   "source": [
    "<font size = \"5\">\n",
    "\n",
    "(f) Generate \"vec_x\" from a chi-square <br>\n",
    "distribution with (df = 1, size = 1000)\n",
    "\n",
    "<font size = \"3\">\n",
    "\n",
    "- Plot a histogram of each variable, with axis labels, and title\n",
    "- Create a new variable \"vec_y\" by the formula <br>\n",
    "$ y = e^x + 2x + 5$\n",
    "- Plot \"vec_x\" against \"vec_y\" and label the axes"
   ]
  },
  {
   "cell_type": "code",
   "execution_count": 13,
   "metadata": {},
   "outputs": [
    {
     "data": {
      "image/png": "iVBORw0KGgoAAAANSUhEUgAAAjsAAAHFCAYAAAAUpjivAAAAOXRFWHRTb2Z0d2FyZQBNYXRwbG90bGliIHZlcnNpb24zLjcuMiwgaHR0cHM6Ly9tYXRwbG90bGliLm9yZy8pXeV/AAAACXBIWXMAAA9hAAAPYQGoP6dpAAA6sklEQVR4nO3dfVxUdd7/8ffIzQgEJCCMk6hUmCVahuWmFhiK623pbtaaaWlXluZK6prm7qV2GZheorWWZZeXZq7ptmVr9+JNlKkbWZZaaTekkhDdIKDhgPD9/dHPuXbC23F0huPr+XicR4/5nu+c8/mOPZy33/M9Z2zGGCMAAACLauTvAgAAAM4mwg4AALA0wg4AALA0wg4AALA0wg4AALA0wg4AALA0wg4AALA0wg4AALA0wg4AALA0wg7QQCxZskQ2m00ffPDBMff37dtXrVq18mhr1aqV7rzzztM6z6ZNmzRt2jQdOHDAu0LPQytXrlTbtm0VFhYmm82mbdu2+bskAP+GsANY2KpVq/SXv/zltN6zadMmTZ8+nbBzir7//nvdcccduuSSS/Tmm29q8+bNat26tb/LAvBvgv1dAICzp0OHDv4u4bTV1NTIZrMpOLhh/PW0e/du1dTUaMiQIUpLS/N3OQCOgZkdwMJ+fRmrrq5OM2bM0GWXXaawsDBdeOGFat++vR577DFJ0rRp0/SnP/1JkpSUlCSbzSabzaa3337b/f5Zs2apTZs2stvtio+P19ChQ1VUVORxXmOMsrOz1bJlSzVu3FgdO3ZUXl6e0tPTlZ6e7u739ttvy2az6bnnntP48eN10UUXyW6368svv9T333+vUaNG6YorrtAFF1yg+Ph43XjjjXr33Xc9zvXNN9/IZrNp9uzZevTRR9WqVSuFhYUpPT3dHUQmTZokp9Op6OhoDRgwQKWlpaf0+a1evVrXXXedwsPDFRkZqR49emjz5s3u/Xfeeae6du0qSbr11ltls9k8xvfvPv74Y9lsNi1atKjevjfeeEM2m02rV692t33xxRcaPHiw4uPjZbfbdfnll+uJJ56o994DBw5o/Pjxuvjii91/Jr1799bnn39+SmP84osvFBUVpVtuucWjff369QoKCjrtmUEgIBkADcLixYuNJLNlyxZTU1NTb+vdu7dp2bKlx3tatmxphg0b5n6dk5NjgoKCzNSpU826devMm2++aebNm2emTZtmjDFm3759ZsyYMUaSeemll8zmzZvN5s2bTXl5uTHGmHvuucdIMvfff7958803zVNPPWWaNm1qEhMTzffff+8+z+TJk40kc88995g333zTPPPMM6ZFixamWbNmJi0tzd1vw4YNRpK56KKLzO9//3uzevVq8+qrr5off/zRfP755+a+++4zK1asMG+//bZ59dVXzYgRI0yjRo3Mhg0b3McoLCw0kkzLli1Nv379zKuvvmqWLVtmEhISTOvWrc0dd9xhhg8fbt544w3z1FNPmQsuuMD069fvpJ/33/72NyPJZGZmmpdfftmsXLnSpKammtDQUPPuu+8aY4z58ssvzRNPPGEkmezsbLN582azc+fO4x6zQ4cOpkuXLvXaBw0aZOLj401NTY0xxpidO3ea6Oho065dO7N06VKzZs0aM378eNOoUSP3n5UxxlRUVJi2bduaiIgI8/DDD5u33nrLvPjii2bs2LFm/fr1Jx3jUStWrDCSzGOPPWaMMaa4uNgkJCSYtLQ0c+TIkVM+DhCoCDtAA3E07JxoO1nY6du3r7nqqqtOeJ7Zs2cbSaawsNCj/bPPPjOSzKhRozza//WvfxlJ5qGHHjLGGPPTTz8Zu91ubr31Vo9+mzdvNpKOGXZuuOGGk47/yJEjpqamxmRkZJgBAwa424+GnSuvvNLU1ta62+fNm2ckmf79+3scJysry0hyB7hjqa2tNU6n07Rr187jmJWVlSY+Pt507ty53hheeOGFk47h8ccfN5LMrl273G1HP6/x48e723r27GmaN29er8b777/fNG7c2Pz000/GGGMefvhhI8nk5eWd9Nwnc99995nQ0FCzefNmc+ONN5r4+Hizf//+Mz4uEAi4jAU0MEuXLlVBQUG97ejllBO59tpr9fHHH2vUqFF66623VFFRccrn3bBhgyTVu7vr2muv1eWXX65169ZJkrZs2SKXy6VBgwZ59PvNb35T726xo373u98ds/2pp57S1VdfrcaNGys4OFghISFat26dPvvss3p9e/furUaN/u+vtMsvv1yS1KdPH49+R9v37t17nJFKu3bt0v79+3XHHXd4HPOCCy7Q7373O23ZskU///zzcd9/PLfffrvsdruWLFnibnv++eflcrl01113SZIOHz6sdevWacCAAQoPD9eRI0fcW+/evXX48GFt2bJF0i+Xv1q3bq3u3bufdi2/NnfuXLVt21bdunXT22+/rWXLlqlZs2ZnfFwgEBB2gAbm8ssvV8eOHett0dHRJ33v5MmT9d///d/asmWLevXqpdjYWGVkZBz3dvZ/9+OPP0rSMb8AnU6ne//R/yYkJNTrd6y24x0zNzdX9913nzp16qQXX3xRW7ZsUUFBgX7729+qqqqqXv+YmBiP16GhoSdsP3z48DFr+fcxHG+sdXV1KisrO+77jycmJkb9+/fX0qVLVVtbK+mXRwpce+21atu2rfvcR44c0V//+leFhIR4bL1795Yk/fDDD5J+uROsefPmp13Hsdjtdg0ePFiHDx/WVVddpR49evjkuEAgaBi3OwDwieDgYI0bN07jxo3TgQMHtHbtWj300EPq2bOn9u3bp/Dw8OO+NzY2VpJUXFxc7wt2//79iouL8+j33Xff1TtGSUnJMWd3bDZbvbZly5YpPT1dCxYs8GivrKw88SB94N/H+mv79+9Xo0aN1KRJE6+Ofdddd+mFF15QXl6eWrRooYKCAo8xNmnSREFBQbrjjjs0evToYx4jKSlJktS0adN6i8O9tWPHDv3nf/6nrrnmGhUUFCg3N1fjxo3zybEBf2NmBzhPXXjhhfr973+v0aNH66efftI333wj6Zd/4UuqN3ty4403SvolhPy7goICffbZZ8rIyJAkderUSXa7XStXrvTot2XLFu3Zs+eU67PZbO5ajvrkk0887oY6Wy677DJddNFFWr58uYwx7vZDhw7pxRdfdN+h5Y3MzExddNFFWrx4sRYvXqzGjRvrD3/4g3t/eHi4unXrpo8++kjt27c/5ize0TDWq1cv7d69W+vXrz+j8R46dEi33HKLWrVqpQ0bNuj+++/XpEmT9K9//euMjgsECmZ2gPNIv379lJKSoo4dO6pp06bas2eP5s2bp5YtWyo5OVmS1K5dO0nSY489pmHDhikkJESXXXaZLrvsMt1zzz3661//qkaNGqlXr1765ptv9Je//EWJiYl64IEHJP1yqWbcuHHKyclRkyZNNGDAABUVFWn69Olq1qyZxxqYE+nbt6/+67/+S1OnTlVaWpp27dqlhx9+WElJSTpy5MjZ+YD+v0aNGmnWrFm6/fbb1bdvX40cOVIul0uzZ8/WgQMHNHPmTK+PHRQUpKFDhyo3N1dRUVEaOHBgvUuQjz32mLp27arrr79e9913n1q1aqXKykp9+eWXeuWVV9zhJisrSytXrtRNN92kSZMm6dprr1VVVZXy8/PVt29fdevW7ZRquvfee7V37169//77ioiI0Jw5c7R582bddttt+uijj3ThhRd6PV4gIPh7hTSAU3P0bqyCgoJj7u/Tp89J78aaM2eO6dy5s4mLizOhoaGmRYsWZsSIEeabb77xeN/kyZON0+k0jRo1MpLct3rX1taaRx991LRu3dqEhISYuLg4M2TIELNv3z6P99fV1ZkZM2aY5s2bm9DQUNO+fXvz6quvmiuvvNLjTqoT3cnkcrnMhAkTzEUXXWQaN25srr76avPyyy+bYcOGeYzz6N1Ys2fP9nj/8Y59ss/x37388sumU6dOpnHjxiYiIsJkZGSY995775TOcyK7d+9230F3vDupCgsLzfDhw81FF11kQkJCTNOmTU3nzp3NjBkzPPqVlZWZsWPHmhYtWpiQkBATHx9v+vTpYz7//PNTquWZZ54xkszixYs92r/88ksTFRVlbr755lMeFxCobMb82xwtAJwlhYWFatOmjaZOnaqHHnrI3+UAOI8QdgD43Mcff6znn39enTt3VlRUlHbt2qVZs2apoqJCO3bsOO5dWQBwNrBmB4DPRURE6IMPPtCiRYt04MABRUdHKz09XY888ghB5xyqra3Vif49a7PZFBQUdA4rAvyDmR0AsKj09HTl5+cfd3/Lli3dd+EBVkbYAQCL2rVr1wmfS2S329133wFWRtgBAACWxkMFAQCApbFAWVJdXZ3279+vyMjIYz62HgAABB5jjCorK+V0Ok/4wFLCjn75rZvExER/lwEAALywb9++E/4oLmFHUmRkpKRfPqyoqCg/VwMAAE5FRUWFEhMT3d/jx0PY0f/94nJUVBRhBwCABuZkS1BYoAwAACyNsAMAACyNsAMAACyNsAMAACyNsAMAACyNsAMAACyNsAMAACyNsAMAACyNsAMAACyNsAMAACyNsAMAACyNsAMAACyNsAMAACyNsAMAACyNsAMAACwt2N8FWF2rSa/5uwSvfDOzj79LAADAJ/w6s9OqVSvZbLZ62+jRoyVJxhhNmzZNTqdTYWFhSk9P186dOz2O4XK5NGbMGMXFxSkiIkL9+/dXUVGRP4YDAAACkF/DTkFBgYqLi91bXl6eJOmWW26RJM2aNUu5ubmaP3++CgoK5HA41KNHD1VWVrqPkZWVpVWrVmnFihXauHGjDh48qL59+6q2ttYvYwIAAIHFr2GnadOmcjgc7u3VV1/VJZdcorS0NBljNG/ePE2ZMkUDBw5USkqKnn32Wf38889avny5JKm8vFyLFi3SnDlz1L17d3Xo0EHLli3T9u3btXbtWn8ODQAABIiAWaBcXV2tZcuWafjw4bLZbCosLFRJSYkyMzPdfex2u9LS0rRp0yZJ0tatW1VTU+PRx+l0KiUlxd3nWFwulyoqKjw2AABgTQETdl5++WUdOHBAd955pySppKREkpSQkODRLyEhwb2vpKREoaGhatKkyXH7HEtOTo6io6PdW2Jiog9HAgAAAknAhJ1FixapV69ecjqdHu02m83jtTGmXtuvnazP5MmTVV5e7t727dvnfeEAACCgBUTY2bNnj9auXau7777b3eZwOCSp3gxNaWmpe7bH4XCourpaZWVlx+1zLHa7XVFRUR4bAACwpoAIO4sXL1Z8fLz69Pm/Z7skJSXJ4XC479CSflnXk5+fr86dO0uSUlNTFRIS4tGnuLhYO3bscPcBAADnN78/VLCurk6LFy/WsGHDFBz8f+XYbDZlZWUpOztbycnJSk5OVnZ2tsLDwzV48GBJUnR0tEaMGKHx48crNjZWMTExmjBhgtq1a6fu3bv7a0gAACCA+D3srF27Vnv37tXw4cPr7Zs4caKqqqo0atQolZWVqVOnTlqzZo0iIyPdfebOnavg4GANGjRIVVVVysjI0JIlSxQUFHQuhwEAAAKUzRhj/F2Ev1VUVCg6Olrl5eU+X7/Dz0UAAHB2nOr3d0Cs2QEAADhbCDsAAMDSCDsAAMDSCDsAAMDSCDsAAMDSCDsAAMDSCDsAAMDSCDsAAMDSCDsAAMDSCDsAAMDSCDsAAMDSCDsAAMDSCDsAAMDSCDsAAMDSCDsAAMDSCDsAAMDSCDsAAMDSCDsAAMDSCDsAAMDSCDsAAMDSCDsAAMDSCDsAAMDSCDsAAMDSCDsAAMDSCDsAAMDSCDsAAMDSCDsAAMDSCDsAAMDSCDsAAMDSCDsAAMDSCDsAAMDSCDsAAMDSCDsAAMDSCDsAAMDSCDsAAMDSCDsAAMDSCDsAAMDSCDsAAMDS/B52vv32Ww0ZMkSxsbEKDw/XVVddpa1bt7r3G2M0bdo0OZ1OhYWFKT09XTt37vQ4hsvl0pgxYxQXF6eIiAj1799fRUVF53ooAAAgAPk17JSVlalLly4KCQnRG2+8oU8//VRz5szRhRde6O4za9Ys5ebmav78+SooKJDD4VCPHj1UWVnp7pOVlaVVq1ZpxYoV2rhxow4ePKi+ffuqtrbWD6MCAACBxGaMMf46+aRJk/Tee+/p3XffPeZ+Y4ycTqeysrL04IMPSvplFichIUGPPvqoRo4cqfLycjVt2lTPPfecbr31VknS/v37lZiYqNdff109e/Y8aR0VFRWKjo5WeXm5oqKifDdASa0mvebT450r38zs4+8SAAA4oVP9/vbrzM7q1avVsWNH3XLLLYqPj1eHDh30zDPPuPcXFhaqpKREmZmZ7ja73a60tDRt2rRJkrR161bV1NR49HE6nUpJSXH3AQAA5y+/hp2vv/5aCxYsUHJyst566y3de++9+uMf/6ilS5dKkkpKSiRJCQkJHu9LSEhw7yspKVFoaKiaNGly3D6/5nK5VFFR4bEBAABrCvbnyevq6tSxY0dlZ2dLkjp06KCdO3dqwYIFGjp0qLufzWbzeJ8xpl7br52oT05OjqZPn36G1QMAgIbArzM7zZo10xVXXOHRdvnll2vv3r2SJIfDIUn1ZmhKS0vdsz0Oh0PV1dUqKys7bp9fmzx5ssrLy93bvn37fDIeAAAQePwadrp06aJdu3Z5tO3evVstW7aUJCUlJcnhcCgvL8+9v7q6Wvn5+ercubMkKTU1VSEhIR59iouLtWPHDnefX7Pb7YqKivLYAACANfn1MtYDDzygzp07Kzs7W4MGDdL777+vhQsXauHChZJ+uXyVlZWl7OxsJScnKzk5WdnZ2QoPD9fgwYMlSdHR0RoxYoTGjx+v2NhYxcTEaMKECWrXrp26d+/uz+EBAIAA4Newc80112jVqlWaPHmyHn74YSUlJWnevHm6/fbb3X0mTpyoqqoqjRo1SmVlZerUqZPWrFmjyMhId5+5c+cqODhYgwYNUlVVlTIyMrRkyRIFBQX5Y1gAACCA+PU5O4GC5+zUx3N2AACBrkE8ZwcAAOBsI+wAAABLI+wAAABLI+wAAABLI+wAAABLI+wAAABLI+wAAABLI+wAAABLI+wAAABLI+wAAABLI+wAAABLI+wAAABLI+wAAABLI+wAAABLI+wAAABLI+wAAABLI+wAAABLI+wAAABLI+wAAABLI+wAAABLI+wAAABLI+wAAABLI+wAAABLI+wAAABLI+wAAABLI+wAAABLI+wAAABLI+wAAABLI+wAAABLI+wAAABLI+wAAABLI+wAAABLI+wAAABLI+wAAABLI+wAAABLI+wAAABLI+wAAABLI+wAAABLI+wAAABL82vYmTZtmmw2m8fmcDjc+40xmjZtmpxOp8LCwpSenq6dO3d6HMPlcmnMmDGKi4tTRESE+vfvr6KionM9FAAAEKD8PrPTtm1bFRcXu7ft27e7982aNUu5ubmaP3++CgoK5HA41KNHD1VWVrr7ZGVladWqVVqxYoU2btyogwcPqm/fvqqtrfXHcAAAQIAJ9nsBwcEeszlHGWM0b948TZkyRQMHDpQkPfvss0pISNDy5cs1cuRIlZeXa9GiRXruuefUvXt3SdKyZcuUmJiotWvXqmfPnud0LAAAIPD4fWbniy++kNPpVFJSkm677TZ9/fXXkqTCwkKVlJQoMzPT3ddutystLU2bNm2SJG3dulU1NTUefZxOp1JSUtx9jsXlcqmiosJjAwAA1uTXsNOpUyctXbpUb731lp555hmVlJSoc+fO+vHHH1VSUiJJSkhI8HhPQkKCe19JSYlCQ0PVpEmT4/Y5lpycHEVHR7u3xMREH48MAAAECr+GnV69eul3v/ud2rVrp+7du+u1116T9MvlqqNsNpvHe4wx9dp+7WR9Jk+erPLycve2b9++MxgFAAAIZH6/jPXvIiIi1K5dO33xxRfudTy/nqEpLS11z/Y4HA5VV1errKzsuH2OxW63KyoqymMDAADWFFBhx+Vy6bPPPlOzZs2UlJQkh8OhvLw89/7q6mrl5+erc+fOkqTU1FSFhIR49CkuLtaOHTvcfQAAwPnNr3djTZgwQf369VOLFi1UWlqqGTNmqKKiQsOGDZPNZlNWVpays7OVnJys5ORkZWdnKzw8XIMHD5YkRUdHa8SIERo/frxiY2MVExOjCRMmuC+LAQAA+DXsFBUV6Q9/+IN++OEHNW3aVL/5zW+0ZcsWtWzZUpI0ceJEVVVVadSoUSorK1OnTp20Zs0aRUZGuo8xd+5cBQcHa9CgQaqqqlJGRoaWLFmioKAgfw0LAAAEEJsxxvi7CH+rqKhQdHS0ysvLfb5+p9Wk13x6vHPlm5l9/F0CAAAndKrf3wG1ZgcAAMDXCDsAAMDSCDsAAMDSCDsAAMDSCDsAAMDSCDsAAMDSCDsAAMDSCDsAAMDSCDsAAMDSCDsAAMDSCDsAAMDSCDsAAMDSCDsAAMDSCDsAAMDSCDsAAMDSCDsAAMDSCDsAAMDSCDsAAMDSCDsAAMDSCDsAAMDSCDsAAMDSCDsAAMDSCDsAAMDSvAo7hYWFvq4DAADgrPAq7Fx66aXq1q2bli1bpsOHD/u6JgAAAJ/xKux8/PHH6tChg8aPHy+Hw6GRI0fq/fff93VtAAAAZ8yrsJOSkqLc3Fx9++23Wrx4sUpKStS1a1e1bdtWubm5+v77731dJwAAgFfOaIFycHCwBgwYoL///e969NFH9dVXX2nChAlq3ry5hg4dquLiYl/VCQAA4JUzCjsffPCBRo0apWbNmik3N1cTJkzQV199pfXr1+vbb7/VTTfd5Ks6AQAAvBLszZtyc3O1ePFi7dq1S71799bSpUvVu3dvNWr0S3ZKSkrS008/rTZt2vi0WAAAgNPlVdhZsGCBhg8frrvuuksOh+OYfVq0aKFFixadUXEAAABnyquw88UXX5y0T2hoqIYNG+bN4QEAAHzGqzU7ixcv1gsvvFCv/YUXXtCzzz57xkUBAAD4ildhZ+bMmYqLi6vXHh8fr+zs7DMuCgAAwFe8Cjt79uxRUlJSvfaWLVtq7969Z1wUAACAr3gVduLj4/XJJ5/Ua//4448VGxt7xkUBAAD4ildh57bbbtMf//hHbdiwQbW1taqtrdX69es1duxY3Xbbbb6uEQAAwGte3Y01Y8YM7dmzRxkZGQoO/uUQdXV1Gjp0KGt2AABAQPFqZic0NFQrV67U559/rr/97W966aWX9NVXX+l///d/FRoa6lUhOTk5stlsysrKcrcZYzRt2jQ5nU6FhYUpPT1dO3fu9Hify+XSmDFjFBcXp4iICPXv319FRUVe1QAAAKznjH4uonXr1rrlllvUt29ftWzZ0uvjFBQUaOHChWrfvr1H+6xZs5Sbm6v58+eroKBADodDPXr0UGVlpbtPVlaWVq1apRUrVmjjxo06ePCg+vbtq9raWq/rAQAA1uHVZaza2lotWbJE69atU2lpqerq6jz2r1+//pSPdfDgQd1+++165plnNGPGDHe7MUbz5s3TlClTNHDgQEnSs88+q4SEBC1fvlwjR45UeXm5Fi1apOeee07du3eXJC1btkyJiYlau3atevbs6c3wAACAhXg1szN27FiNHTtWtbW1SklJ0ZVXXumxnY7Ro0erT58+7rByVGFhoUpKSpSZmelus9vtSktL06ZNmyRJW7duVU1NjUcfp9OplJQUdx8AAHB+82pmZ8WKFfr73/+u3r17n9HJV6xYoQ8//FAFBQX19pWUlEiSEhISPNoTEhK0Z88ed5/Q0FA1adKkXp+j7z8Wl8sll8vlfl1RUeH1GAAAQGDzeoHypZdeekYn3rdvn8aOHatly5apcePGx+1ns9k8Xhtj6rX92sn65OTkKDo62r0lJiaeXvEAAKDB8CrsjB8/Xo899piMMV6feOvWrSotLVVqaqqCg4MVHBys/Px8Pf744woODnbP6Px6hqa0tNS9z+FwqLq6WmVlZcftcyyTJ09WeXm5e9u3b5/X4wAAAIHNq8tYGzdu1IYNG/TGG2+obdu2CgkJ8dj/0ksvnfQYGRkZ2r59u0fbXXfdpTZt2ujBBx/UxRdfLIfDoby8PHXo0EGSVF1drfz8fD366KOSpNTUVIWEhCgvL0+DBg2SJBUXF2vHjh2aNWvWcc9tt9tlt9tPa8wAAKBh8irsXHjhhRowYMAZnTgyMlIpKSkebREREYqNjXW3Z2VlKTs7W8nJyUpOTlZ2drbCw8M1ePBgSVJ0dLRGjBih8ePHKzY2VjExMZowYYLatWtXb8EzAAA4P3kVdhYvXuzrOo5p4sSJqqqq0qhRo1RWVqZOnTppzZo1ioyMdPeZO3eugoODNWjQIFVVVSkjI0NLlixRUFDQOakRAAAENpvxcuHNkSNH9Pbbb+urr77S4MGDFRkZqf379ysqKkoXXHCBr+s8qyoqKhQdHa3y8nJFRUX59NitJr3m0+OdK9/M7OPvEgAAOKFT/f72amZnz549+u1vf6u9e/fK5XKpR48eioyM1KxZs3T48GE99dRTXhcOAADgS14/VLBjx44qKytTWFiYu33AgAFat26dz4oDAAA4U17fjfXee+/V+9HPli1b6ttvv/VJYQAAAL7g1cxOXV3dMX9os6ioyGPxMAAAgL95FXZ69OihefPmuV/bbDYdPHhQU6dOPeOfkAAAAPAlry5jzZ07V926ddMVV1yhw4cPa/Dgwfriiy8UFxen559/3tc1AgAAeM2rsON0OrVt2zY9//zz+vDDD1VXV6cRI0bo9ttv91iwDAAA4G9ehR1JCgsL0/DhwzV8+HBf1gMAAOBTXoWdpUuXnnD/0KFDvSoGAADA17wKO2PHjvV4XVNTo59//lmhoaEKDw8n7AAAgIDh1d1YZWVlHtvBgwe1a9cude3alQXKAAAgoHgVdo4lOTlZM2fOrDfrAwAA4E8+CzuSFBQUpP379/vykAAAAGfEqzU7q1ev9nhtjFFxcbHmz5+vLl26+KQwAAAAX/Aq7Nx8880er202m5o2baobb7xRc+bM8UVdAAAAPuFV2Kmrq/N1HQAAAGeFT9fsAAAABBqvZnbGjRt3yn1zc3O9OQUAAIBPeBV2PvroI3344Yc6cuSILrvsMknS7t27FRQUpKuvvtrdz2az+aZKAAAAL3kVdvr166fIyEg9++yzatKkiaRfHjR411136frrr9f48eN9WiQAAIC3vFqzM2fOHOXk5LiDjiQ1adJEM2bM4G4sAAAQULwKOxUVFfruu+/qtZeWlqqysvKMiwIAAPAVr8LOgAEDdNddd+kf//iHioqKVFRUpH/84x8aMWKEBg4c6OsaAQAAvObVmp2nnnpKEyZM0JAhQ1RTU/PLgYKDNWLECM2ePdunBQIAAJwJr8JOeHi4nnzySc2ePVtfffWVjDG69NJLFRER4ev6AAAAzsgZPVSwuLhYxcXFat26tSIiImSM8VVdAAAAPuFV2Pnxxx+VkZGh1q1bq3fv3iouLpYk3X333dx2DgAAAopXYeeBBx5QSEiI9u7dq/DwcHf7rbfeqjfffNNnxQEAAJwpr9bsrFmzRm+99ZaaN2/u0Z6cnKw9e/b4pDAAAABf8Gpm59ChQx4zOkf98MMPstvtZ1wUAACAr3gVdm644QYtXbrU/dpms6murk6zZ89Wt27dfFYcAADAmfLqMtbs2bOVnp6uDz74QNXV1Zo4caJ27typn376Se+9956vawQAAPCaVzM7V1xxhT755BNde+216tGjhw4dOqSBAwfqo48+0iWXXOLrGgEAALx22jM7NTU1yszM1NNPP63p06efjZoAAAB85rRndkJCQrRjxw7ZbLazUQ8AAIBPeXUZa+jQoVq0aJGvawEAAPA5rxYoV1dX63/+53+Ul5enjh071vtNrNzcXJ8UBwAAcKZOK+x8/fXXatWqlXbs2KGrr75akrR7926PPlzeAgAAgeS0wk5ycrKKi4u1YcMGSb/8PMTjjz+uhISEs1IcAADAmTqtNTu//lXzN954Q4cOHfL65AsWLFD79u0VFRWlqKgoXXfddXrjjTc8zjdt2jQ5nU6FhYUpPT1dO3fu9DiGy+XSmDFjFBcXp4iICPXv319FRUVe1wQAAKzFqwXKR/06/Jyu5s2ba+bMmfrggw/0wQcf6MYbb9RNN93kDjSzZs1Sbm6u5s+fr4KCAjkcDvXo0UOVlZXuY2RlZWnVqlVasWKFNm7cqIMHD6pv376qra09o9oAAIA1nFbYsdls9dbknMkanX79+ql3795q3bq1WrdurUceeUQXXHCBtmzZImOM5s2bpylTpmjgwIFKSUnRs88+q59//lnLly+XJJWXl2vRokWaM2eOunfvrg4dOmjZsmXavn271q5d63VdAADAOk5rzY4xRnfeeaf7xz4PHz6se++9t97dWC+99NJpF1JbW6sXXnhBhw4d0nXXXafCwkKVlJQoMzPT3cdutystLU2bNm3SyJEjtXXrVvdDDo9yOp1KSUnRpk2b1LNnz2Oey+VyyeVyuV9XVFScdr0AAKBhOK2wM2zYMI/XQ4YMOeMCtm/fruuuu06HDx/WBRdcoFWrVumKK67Qpk2bJKne4ueEhATt2bNHklRSUqLQ0FA1adKkXp+SkpLjnjMnJ4enPwMAcJ44rbCzePFinxdw2WWXadu2bTpw4IBefPFFDRs2TPn5+e79v75MZow56aWzk/WZPHmyxo0b535dUVGhxMREL0cAAAAC2RktUPaF0NBQXXrpperYsaNycnJ05ZVX6rHHHpPD4ZCkejM0paWl7tkeh8Oh6upqlZWVHbfPsdjtdvcdYEc3AABgTX4PO79mjJHL5VJSUpIcDofy8vLc+6qrq5Wfn6/OnTtLklJTUxUSEuLRp7i4WDt27HD3AQAA5zevfi7CVx566CH16tVLiYmJqqys1IoVK/T222/rzTfflM1mU1ZWlrKzs5WcnKzk5GRlZ2crPDxcgwcPliRFR0drxIgRGj9+vGJjYxUTE6MJEyaoXbt26t69uz+HBgAAAoRfw853332nO+64Q8XFxYqOjlb79u315ptvqkePHpKkiRMnqqqqSqNGjVJZWZk6deqkNWvWKDIy0n2MuXPnKjg4WIMGDVJVVZUyMjK0ZMkSBQUF+WtYAAAggNjMmT4Z0AIqKioUHR2t8vJyn6/faTXpNZ8e71z5ZmYff5cAAMAJner3d8Ct2QEAAPAlwg4AALA0wg4AALA0wg4AALA0wg4AALA0wg4AALA0wg4AALA0wg4AALA0wg4AALA0wg4AALA0wg4AALA0wg4AALA0wg4AALA0wg4AALA0wg4AALA0wg4AALA0wg4AALA0wg4AALA0wg4AALA0wg4AALA0wg4AALA0wg4AALA0wg4AALA0wg4AALA0wg4AALA0wg4AALA0wg4AALA0wg4AALA0wg4AALA0wg4AALA0wg4AALA0wg4AALA0wg4AALA0wg4AALA0wg4AALA0wg4AALA0wg4AALA0wg4AALA0v4adnJwcXXPNNYqMjFR8fLxuvvlm7dq1y6OPMUbTpk2T0+lUWFiY0tPTtXPnTo8+LpdLY8aMUVxcnCIiItS/f38VFRWdy6EAAIAA5dewk5+fr9GjR2vLli3Ky8vTkSNHlJmZqUOHDrn7zJo1S7m5uZo/f74KCgrkcDjUo0cPVVZWuvtkZWVp1apVWrFihTZu3KiDBw+qb9++qq2t9cewAABAALEZY4y/izjq+++/V3x8vPLz83XDDTfIGCOn06msrCw9+OCDkn6ZxUlISNCjjz6qkSNHqry8XE2bNtVzzz2nW2+9VZK0f/9+JSYm6vXXX1fPnj1Pet6KigpFR0ervLxcUVFRPh1Tq0mv+fR458o3M/v4uwQAAE7oVL+/A2rNTnl5uSQpJiZGklRYWKiSkhJlZma6+9jtdqWlpWnTpk2SpK1bt6qmpsajj9PpVEpKirsPAAA4fwX7u4CjjDEaN26cunbtqpSUFElSSUmJJCkhIcGjb0JCgvbs2ePuExoaqiZNmtTrc/T9v+ZyueRyudyvKyoqfDYOAAAQWAJmZuf+++/XJ598oueff77ePpvN5vHaGFOv7ddO1CcnJ0fR0dHuLTEx0fvCAQBAQAuIsDNmzBitXr1aGzZsUPPmzd3tDodDkurN0JSWlrpnexwOh6qrq1VWVnbcPr82efJklZeXu7d9+/b5cjgAACCA+DXsGGN0//3366WXXtL69euVlJTksT8pKUkOh0N5eXnuturqauXn56tz586SpNTUVIWEhHj0KS4u1o4dO9x9fs1utysqKspjAwAA1uTXNTujR4/W8uXL9c9//lORkZHuGZzo6GiFhYXJZrMpKytL2dnZSk5OVnJysrKzsxUeHq7Bgwe7+44YMULjx49XbGysYmJiNGHCBLVr107du3f35/AAAEAA8GvYWbBggSQpPT3do33x4sW68847JUkTJ05UVVWVRo0apbKyMnXq1Elr1qxRZGSku//cuXMVHBysQYMGqaqqShkZGVqyZImCgoLO1VAAAECACqjn7PgLz9mpj+fsAAACXYN8zg4AAICvEXYAAIClEXYAAIClEXYAAIClEXYAAIClEXYAAIClEXYAAIClEXYAAIClEXYAAIClEXYAAIClEXYAAIClEXYAAIClEXYAAIClEXYAAIClEXYAAIClEXYAAIClEXYAAIClEXYAAIClEXYAAIClEXYAAIClEXYAAIClEXYAAIClEXYAAIClEXYAAIClBfu7AASmVpNe83cJp+2bmX38XQIAIAAxswMAACyNsAMAACyNsAMAACyNsAMAACyNsAMAACyNsAMAACyNsAMAACyNsAMAACyNsAMAACyNsAMAACyNsAMAACyNsAMAACyNsAMAACyNsAMAACzNr2HnnXfeUb9+/eR0OmWz2fTyyy977DfGaNq0aXI6nQoLC1N6erp27tzp0cflcmnMmDGKi4tTRESE+vfvr6KionM4CgAAEMj8GnYOHTqkK6+8UvPnzz/m/lmzZik3N1fz589XQUGBHA6HevToocrKSnefrKwsrVq1SitWrNDGjRt18OBB9e3bV7W1tedqGAAAIIAF+/PkvXr1Uq9evY65zxijefPmacqUKRo4cKAk6dlnn1VCQoKWL1+ukSNHqry8XIsWLdJzzz2n7t27S5KWLVumxMRErV27Vj179jxnYwEAAIEpYNfsFBYWqqSkRJmZme42u92utLQ0bdq0SZK0detW1dTUePRxOp1KSUlx9zkWl8uliooKjw0AAFhTwIadkpISSVJCQoJHe0JCgntfSUmJQkND1aRJk+P2OZacnBxFR0e7t8TERB9XDwAAAkXAhp2jbDabx2tjTL22XztZn8mTJ6u8vNy97du3zye1AgCAwBOwYcfhcEhSvRma0tJS92yPw+FQdXW1ysrKjtvnWOx2u6Kiojw2AABgTQEbdpKSkuRwOJSXl+duq66uVn5+vjp37ixJSk1NVUhIiEef4uJi7dixw90HAACc3/x6N9bBgwf15Zdful8XFhZq27ZtiomJUYsWLZSVlaXs7GwlJycrOTlZ2dnZCg8P1+DBgyVJ0dHRGjFihMaPH6/Y2FjFxMRowoQJateunfvuLAAAcH7za9j54IMP1K1bN/frcePGSZKGDRumJUuWaOLEiaqqqtKoUaNUVlamTp06ac2aNYqMjHS/Z+7cuQoODtagQYNUVVWljIwMLVmyREFBQed8PAAAIPDYjDHG30X4W0VFhaKjo1VeXu7z9TutJr3m0+Ph+L6Z2cffJQAAzqFT/f4O2DU7AAAAvkDYAQAAlkbYAQAAlkbYAQAAlkbYAQAAlkbYAQAAlubX5+wAvtQQb/PndnkAOPuY2QEAAJZG2AEAAJZG2AEAAJZG2AEAAJZG2AEAAJZG2AEAAJZG2AEAAJZG2AEAAJZG2AEAAJZG2AEAAJZG2AEAAJZG2AEAAJZG2AEAAJZG2AEAAJZG2AEAAJZG2AEAAJZG2AEAAJZG2AEAAJZG2AEAAJYW7O8CgPNZq0mv+buE0/bNzD7+LgEATgszOwAAwNIIOwAAwNIIOwAAwNIIOwAAwNIIOwAAwNIIOwAAwNK49RzAaeF2eQANDTM7AADA0gg7AADA0gg7AADA0gg7AADA0iyzQPnJJ5/U7NmzVVxcrLZt22revHm6/vrr/V0WgADAomrg/GaJsLNy5UplZWXpySefVJcuXfT000+rV69e+vTTT9WiRQt/lwcAp42ABviOJS5j5ebmasSIEbr77rt1+eWXa968eUpMTNSCBQv8XRoAAPCzBh92qqurtXXrVmVmZnq0Z2ZmatOmTX6qCgAABIoGfxnrhx9+UG1trRISEjzaExISVFJScsz3uFwuuVwu9+vy8nJJUkVFhc/rq3P97PNjAkAgavHAC/4uAQFqx/SeZ+W4R7+3jTEn7Nfgw85RNpvN47Uxpl7bUTk5OZo+fXq99sTExLNSGwAA57PoeWf3+JWVlYqOjj7u/gYfduLi4hQUFFRvFqe0tLTebM9RkydP1rhx49yv6+rq9NNPPyk2Nva4AckbFRUVSkxM1L59+xQVFeWz456v+Dx9i8/Tt/g8fYfP0res/HkaY1RZWSmn03nCfg0+7ISGhio1NVV5eXkaMGCAuz0vL0833XTTMd9jt9tlt9s92i688MKzVmNUVJTl/gfzJz5P3+Lz9C0+T9/hs/Qtq36eJ5rROarBhx1JGjdunO644w517NhR1113nRYuXKi9e/fq3nvv9XdpAADAzywRdm699Vb9+OOPevjhh1VcXKyUlBS9/vrratmypb9LAwAAfmaJsCNJo0aN0qhRo/xdhge73a6pU6fWu2QG7/B5+hafp2/xefoOn6Vv8XlKNnOy+7UAAAAasAb/UEEAAIATIewAAABLI+wAAABLI+wAAABLI+ycRU8++aSSkpLUuHFjpaam6t133/V3SQ1STk6OrrnmGkVGRio+Pl4333yzdu3a5e+yLCEnJ0c2m01ZWVn+LqXB+vbbbzVkyBDFxsYqPDxcV111lbZu3ervshqkI0eO6M9//rOSkpIUFhamiy++WA8//LDq6ur8XVqD8M4776hfv35yOp2y2Wx6+eWXPfYbYzRt2jQ5nU6FhYUpPT1dO3fu9E+x5xhh5yxZuXKlsrKyNGXKFH300Ue6/vrr1atXL+3du9ffpTU4+fn5Gj16tLZs2aK8vDwdOXJEmZmZOnTokL9La9AKCgq0cOFCtW/f3t+lNFhlZWXq0qWLQkJC9MYbb+jTTz/VnDlzzuoT2a3s0Ucf1VNPPaX58+frs88+06xZszR79mz99a9/9XdpDcKhQ4d05ZVXav78+cfcP2vWLOXm5mr+/PkqKCiQw+FQjx49VFlZeY4r9QODs+Laa6819957r0dbmzZtzKRJk/xUkXWUlpYaSSY/P9/fpTRYlZWVJjk52eTl5Zm0tDQzduxYf5fUID344IOma9eu/i7DMvr06WOGDx/u0TZw4EAzZMgQP1XUcEkyq1atcr+uq6szDofDzJw50912+PBhEx0dbZ566ik/VHhuMbNzFlRXV2vr1q3KzMz0aM/MzNSmTZv8VJV1lJeXS5JiYmL8XEnDNXr0aPXp00fdu3f3dykN2urVq9WxY0fdcsstio+PV4cOHfTMM8/4u6wGq2vXrlq3bp12794tSfr444+1ceNG9e7d28+VNXyFhYUqKSnx+F6y2+1KS0s7L76XLPME5UDyww8/qLa2tt6vrickJNT7dXacHmOMxo0bp65duyolJcXf5TRIK1as0IcffqiCggJ/l9Lgff3111qwYIHGjRunhx56SO+//77++Mc/ym63a+jQof4ur8F58MEHVV5erjZt2igoKEi1tbV65JFH9Ic//MHfpTV4R797jvW9tGfPHn+UdE4Rds4im83m8doYU68Np+f+++/XJ598oo0bN/q7lAZp3759Gjt2rNasWaPGjRv7u5wGr66uTh07dlR2drYkqUOHDtq5c6cWLFhA2PHCypUrtWzZMi1fvlxt27bVtm3blJWVJafTqWHDhvm7PEs4X7+XCDtnQVxcnIKCgurN4pSWltZL1Th1Y8aM0erVq/XOO++oefPm/i6nQdq6datKS0uVmprqbqutrdU777yj+fPny+VyKSgoyI8VNizNmjXTFVdc4dF2+eWX68UXX/RTRQ3bn/70J02aNEm33XabJKldu3bas2ePcnJyCDtnyOFwSPplhqdZs2bu9vPle4k1O2dBaGioUlNTlZeX59Gel5enzp07+6mqhssYo/vvv18vvfSS1q9fr6SkJH+X1GBlZGRo+/bt2rZtm3vr2LGjbr/9dm3bto2gc5q6dOlS7zEIu3fvVsuWLf1UUcP2888/q1Ejz6+loKAgbj33gaSkJDkcDo/vperqauXn558X30vM7Jwl48aN0x133KGOHTvquuuu08KFC7V3717de++9/i6twRk9erSWL1+uf/7zn4qMjHTPmEVHRyssLMzP1TUskZGR9dY6RUREKDY2ljVQXnjggQfUuXNnZWdna9CgQXr//fe1cOFCLVy40N+lNUj9+vXTI488ohYtWqht27b66KOPlJubq+HDh/u7tAbh4MGD+vLLL92vCwsLtW3bNsXExKhFixbKyspSdna2kpOTlZycrOzsbIWHh2vw4MF+rPoc8e/NYNb2xBNPmJYtW5rQ0FBz9dVXc6u0lyQdc1u8eLG/S7MEbj0/M6+88opJSUkxdrvdtGnTxixcuNDfJTVYFRUVZuzYsaZFixamcePG5uKLLzZTpkwxLpfL36U1CBs2bDjm35XDhg0zxvxy+/nUqVONw+Ewdrvd3HDDDWb79u3+LfocsRljjJ9yFgAAwFnHmh0AAGBphB0AAGBphB0AAGBphB0AAGBphB0AAGBphB0AAGBphB0AAGBphB0AAGBphB0AAGBphB0AAGBphB0AAenpp5/WRRddVO8Xr/v3769hw4ZJkl555RWlpqaqcePGuvjiizV9+nQdOXLE3ffAgQO65557lJCQoMaNGyslJUWvvvrqSc89fPhwtW/fXi6XS5JUU1Oj1NRU3X777T4cIYBzhd/GAhCQfvrpJzVr1kyvv/66MjIyJEllZWVyOBx65ZVXZIzRoEGD9Pjjj+v666/XV199pXvuuUd33nmnpk6dqrq6OnXp0kWVlZWaO3euLrnkEn366acKCgpSr169TnjugwcP6sorr1T//v01d+5cTZo0Sc8//7w++eQTRUdHn4vhA/Ahwg6AgHXTTTcpLi5OixYtkiQtXLhQU6dOVVFRkbp166ZevXpp8uTJ7v7Lli3TxIkTtX//fq1Zs0a9evXSZ599ptatW5/2uTdv3qy0tDRNmjRJOTk5WrdunW644QafjQ3AuUPYARCw/v73v+uee+7Rd999J7vdrrS0NF199dWaO3euIiIiVFdXp6CgIHf/2tpaHT58WIcOHdL8+fP1xBNPaM+ePV6f/6GHHlJOTo4efPBBzZw50xdDAuAHwf4uAACOp1+/fqqrq9Nrr72ma665Ru+++65yc3MlSXV1dZo+fboGDhxY732NGzdWWFjYGZ27rq5O7733noKCgvTFF1+c0bEA+BdhB0DACgsL08CBA/W3v/1NX375pVq3bq3U1FRJ0tVXX61du3bp0ksvPeZ727dvr6KiIu3evdury1izZ8/WZ599pvz8fPXs2VOLFy/WXXfddUbjAeAfXMYCENDy8vLUr18/tWrVSkOGDNGf//xnSdJbb72lvn37asqUKbrlllvUqFEjffLJJ9q+fbtmzJghSerWrZt++OEH5ebm6tJLL9Xnn38um82m3/72tyc857Zt29SpUyf94x//UL9+/bRo0SI98MAD2rZtmy6++OKzPmYAvkXYARDQamtrlZiYqOLiYn311VceYeOtt97Sww8/rI8++kghISFq06aN7r77bv3Hf/yHpF/u6JowYYJWr16tQ4cO6dJLL9XMmTPVp0+f457v8OHDSk1NVdeuXfX000+72wcOHKjvvvtO77zzjsc6IQCBj7ADAAAsjYcKAgAASyPsADjv9OrVSxdccMExt+zsbH+XB8DHuIwF4Lzz7bffqqqq6pj7YmJiFBMTc44rAnA2EXYAAIClcRkLAABYGmEHAABYGmEHAABYGmEHAABYGmEHAABYGmEHAABYGmEHAABYGmEHAABY2v8DXSdE7CIEtNIAAAAASUVORK5CYII=",
      "text/plain": [
       "<Figure size 640x480 with 1 Axes>"
      ]
     },
     "metadata": {},
     "output_type": "display_data"
    },
    {
     "data": {
      "image/png": "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",
      "text/plain": [
       "<Figure size 640x480 with 1 Axes>"
      ]
     },
     "metadata": {},
     "output_type": "display_data"
    },
    {
     "data": {
      "image/png": "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",
      "text/plain": [
       "<Figure size 640x480 with 1 Axes>"
      ]
     },
     "metadata": {},
     "output_type": "display_data"
    }
   ],
   "source": [
    "# Write your own code\n",
    "# generate vec_x\n",
    "vec_x = np.random.chisquare(df=1, size=1000)\n",
    "# create a histogram of vec_x\n",
    "plt.hist(vec_x)\n",
    "plt.xlabel(\"vec_x\")\n",
    "plt.ylabel(\"Frequency\")\n",
    "plt.title(\"Histogram of vec_x\")\n",
    "plt.show()\n",
    "# generate vec_y\n",
    "vec_y = np.exp(vec_x) + 2*vec_x + 5\n",
    "# create a histogram of vec_y\n",
    "plt.hist(vec_y)\n",
    "plt.xlabel(\"vec_y\")\n",
    "plt.ylabel(\"Frequency\")\n",
    "plt.title(\"Histogram of vec_y\")\n",
    "plt.show()\n",
    "# plot vec_x against vec_y\n",
    "plt.scatter(vec_x, vec_y)\n",
    "plt.xlabel(\"vec_x\")\n",
    "plt.ylabel(\"vec_y\")\n",
    "plt.show()\n"
   ]
  },
  {
   "cell_type": "markdown",
   "metadata": {},
   "source": [
    "<font size = \"5\">\n",
    "\n",
    "(g) Research online how to create an array with <br>\n",
    "```size = 1000``` entries, with all entries equal to one.\n",
    "\n",
    "<font size = \"3\">\n",
    "\n",
    "- Create a new matrix, ```X_mat``` that appends a <br>\n",
    "vector with only ones and \"vec_x\" from question (f) to form <br>\n",
    "a matrix with two columns and 1000 rows\n",
    "- Compute $(X_{mat}'X_{mat})^{-1}$"
   ]
  },
  {
   "cell_type": "code",
   "execution_count": null,
   "metadata": {},
   "outputs": [
    {
     "data": {
      "text/plain": [
       "array([[ 0.00148141, -0.00048953],\n",
       "       [-0.00048953,  0.00049778]])"
      ]
     },
     "execution_count": 75,
     "metadata": {},
     "output_type": "execute_result"
    }
   ],
   "source": [
    "# Write your own code\n",
    "ones = np.ones(1000)\n",
    "X_mat = np.column_stack([ones, vec_x])\n",
    "XTX_inv = np.linalg.inv(X_mat.T @ X_mat)\n",
    "\n",
    "\n"
   ]
  }
 ],
 "metadata": {
  "kernelspec": {
   "display_name": "base",
   "language": "python",
   "name": "python3"
  },
  "language_info": {
   "codemirror_mode": {
    "name": "ipython",
    "version": 3
   },
   "file_extension": ".py",
   "mimetype": "text/x-python",
   "name": "python",
   "nbconvert_exporter": "python",
   "pygments_lexer": "ipython3",
<<<<<<< Updated upstream
<<<<<<< Updated upstream
<<<<<<< Updated upstream
   "version": "3.9.18"
=======
   "version": "3.11.5"
>>>>>>> Stashed changes
=======
   "version": "3.11.5"
>>>>>>> Stashed changes
=======
   "version": "3.11.5"
>>>>>>> Stashed changes
  },
  "orig_nbformat": 4
 },
 "nbformat": 4,
 "nbformat_minor": 2
}
