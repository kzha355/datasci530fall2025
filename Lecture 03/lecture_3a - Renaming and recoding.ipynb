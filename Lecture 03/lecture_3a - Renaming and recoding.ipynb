{
 "cells": [
  {
   "attachments": {},
   "cell_type": "markdown",
   "metadata": {},
   "source": [
    "# <span style=\"color:darkblue\"> Lecture 3a - Replacing and recoding variables</span>\n",
    "\n",
    "<font size = \"5\">\n",
    "\n",
    "- Starting a new module on **manipulating data**\n",
    "- We will discuss NaNs and how to clean data"
   ]
  },
  {
   "attachments": {},
   "cell_type": "markdown",
   "metadata": {},
   "source": [
    "# <span style=\"color:darkblue\"> I. Import Libraries and Data </span>\n"
   ]
  },
  {
   "attachments": {},
   "cell_type": "markdown",
   "metadata": {},
   "source": [
    "<font size = \"5\">\n",
    "Key libraries"
   ]
  },
  {
   "cell_type": "code",
   "execution_count": 1,
   "metadata": {},
   "outputs": [],
   "source": [
    "import numpy as np\n",
    "import pandas as pd"
   ]
  },
  {
   "attachments": {},
   "cell_type": "markdown",
   "metadata": {},
   "source": [
    "<font size = \"5\">\n",
    "\n",
    "Read dataset on car racing circuits\n",
    "\n",
    "- https://en.wikipedia.org/wiki/Formula_One <br>\n",
    "- [See Data Source](https://www.kaggle.com/datasets/rohanrao/formula-1-world-championship-1950-2020)"
   ]
  },
  {
   "cell_type": "code",
   "execution_count": 2,
   "metadata": {},
   "outputs": [],
   "source": [
    "circuits = pd.read_csv(\"data_raw/circuits.csv\")"
   ]
  },
  {
   "attachments": {},
   "cell_type": "markdown",
   "metadata": {},
   "source": [
    "<font size = \"5\">\n",
    "\n",
    "The dataset \"codebook\" is a table with ...\n",
    "\n",
    "- Key column information\n",
    "- Main things:  Field, Type, and Description\n",
    "\n",
    "<img src=\"figures/codebook_circuits.png\" alt=\"drawing\" width=\"500\"/>\n"
   ]
  },
  {
   "cell_type": "code",
   "execution_count": 3,
   "metadata": {},
   "outputs": [],
   "source": [
    "# The codebook contains basics about the columns\n",
    "\n",
    "# \"Field\" is the name given to the name of the column\n",
    "\n",
    "# \"Type\"  is the variable type (with the number of characters in parenthesis):\n",
    "#         integer (int)\n",
    "#         string (varchar - \"variable character\") \n",
    "#         float (float)\n",
    "\n",
    "# \"Description\" contains a label with the content of the variable"
   ]
  },
  {
   "attachments": {},
   "cell_type": "markdown",
   "metadata": {},
   "source": [
    "<font size = \"5\">\n",
    "\n",
    "Quick Discussion:\n",
    "- What does the \"alt\" column represent?\n",
    "- What does \"varchar(255)\" mean?"
   ]
  },
  {
   "cell_type": "code",
   "execution_count": null,
   "metadata": {},
   "outputs": [],
   "source": [
    "# Write your answer here\n",
    "# It represents the column that contains information of altitude.\n",
    "# It stores up to 255 characters.\n",
    "\n"
   ]
  },
  {
   "attachments": {},
   "cell_type": "markdown",
   "metadata": {},
   "source": [
    "# <span style=\"color:darkblue\"> II. NaNs </span>\n",
    "\n",
    "<font size = \"5\">\n",
    "\n",
    "- Means \"Not a Number\"\n",
    "- Used to denote missing values"
   ]
  },
  {
   "cell_type": "code",
   "execution_count": 3,
   "metadata": {},
   "outputs": [
    {
     "data": {
      "text/plain": [
       "nan"
      ]
     },
     "execution_count": 3,
     "metadata": {},
     "output_type": "execute_result"
    }
   ],
   "source": [
    "# \"NaNs\" are a special number, available in the \"np\" library\n",
    "\n",
    "np.nan"
   ]
  },
  {
   "attachments": {},
   "cell_type": "markdown",
   "metadata": {},
   "source": [
    "<font size = \"5\">\n",
    "\n",
    "Operations on arrays with NaNs"
   ]
  },
  {
   "cell_type": "code",
   "execution_count": 4,
   "metadata": {},
   "outputs": [
    {
     "name": "stdout",
     "output_type": "stream",
     "text": [
      "[nan  4.  5.]\n",
      "[ nan 0.25 0.2 ]\n",
      "[nan  5.  6.]\n",
      "[nan -3. -4.]\n"
     ]
    }
   ],
   "source": [
    "# Create two array with and without \"NaNs\"\n",
    "# The \"np.array()\" functions converts a list to an array\n",
    "\n",
    "vec_without_nans = np.array([1,1,1])\n",
    "vec_with_nans = np.array([np.nan,4,5])\n",
    "\n",
    "# When you add the vectors\n",
    "# you will produce a NaN on any entries with \"NaNs\"\n",
    "print(vec_without_nans * vec_with_nans)\n",
    "print(vec_without_nans / vec_with_nans)\n",
    "print(vec_without_nans + vec_with_nans)\n",
    "print(vec_without_nans - vec_with_nans)"
   ]
  },
  {
   "attachments": {},
   "cell_type": "markdown",
   "metadata": {},
   "source": [
    "<font size = \"5\">\n",
    "\n",
    "Summary statistics with NaNs"
   ]
  },
  {
   "cell_type": "code",
   "execution_count": 5,
   "metadata": {},
   "outputs": [
    {
     "name": "stdout",
     "output_type": "stream",
     "text": [
      "nan\n",
      "4.5\n"
     ]
    }
   ],
   "source": [
    "# Some summary statistics will not work if there are \"NaNs\"\n",
    "# The \"np.mean()\" doesn't work if the mean includes \"NaNs\"\n",
    "print(np.mean(vec_with_nans))\n",
    "\n",
    "# Some commands ignore the \"nans\"\n",
    "# The \"np.nanmean()\" computes the mean over the numeric obvservations\n",
    "print(np.nanmean(vec_with_nans))"
   ]
  },
  {
   "attachments": {},
   "cell_type": "markdown",
   "metadata": {},
   "source": [
    "<font size = \"5\">\n",
    "\n",
    "Pandas summary statistics ignore NaNs"
   ]
  },
  {
   "cell_type": "code",
   "execution_count": 8,
   "metadata": {},
   "outputs": [
    {
     "data": {
      "text/html": [
       "<div>\n",
       "<style scoped>\n",
       "    .dataframe tbody tr th:only-of-type {\n",
       "        vertical-align: middle;\n",
       "    }\n",
       "\n",
       "    .dataframe tbody tr th {\n",
       "        vertical-align: top;\n",
       "    }\n",
       "\n",
       "    .dataframe thead th {\n",
       "        text-align: right;\n",
       "    }\n",
       "</style>\n",
       "<table border=\"1\" class=\"dataframe\">\n",
       "  <thead>\n",
       "    <tr style=\"text-align: right;\">\n",
       "      <th></th>\n",
       "      <th>x</th>\n",
       "    </tr>\n",
       "  </thead>\n",
       "  <tbody>\n",
       "    <tr>\n",
       "      <th>0</th>\n",
       "      <td>NaN</td>\n",
       "    </tr>\n",
       "    <tr>\n",
       "      <th>1</th>\n",
       "      <td>4.0</td>\n",
       "    </tr>\n",
       "    <tr>\n",
       "      <th>2</th>\n",
       "      <td>5.0</td>\n",
       "    </tr>\n",
       "  </tbody>\n",
       "</table>\n",
       "</div>"
      ],
      "text/plain": [
       "     x\n",
       "0  NaN\n",
       "1  4.0\n",
       "2  5.0"
      ]
     },
     "execution_count": 8,
     "metadata": {},
     "output_type": "execute_result"
    }
   ],
   "source": [
    "# This command creates an empty dataframe\n",
    "# then creates a new column called \"x\" and computes its mean\n",
    "# Note: If a column contains missing values, then the \"mean\" won't be \n",
    "#       representative of the whole sample\n",
    "\n",
    "dataset = pd.DataFrame()\n",
    "dataset[\"x\"] = vec_with_nans\n",
    "dataset"
   ]
  },
  {
   "cell_type": "code",
   "execution_count": 9,
   "metadata": {},
   "outputs": [
    {
     "data": {
      "text/plain": [
       "4.5"
      ]
     },
     "execution_count": 9,
     "metadata": {},
     "output_type": "execute_result"
    }
   ],
   "source": [
    "dataset[\"x\"].mean()"
   ]
  },
  {
   "attachments": {},
   "cell_type": "markdown",
   "metadata": {},
   "source": [
    "# <span style=\"color:darkblue\"> II. Data Cleaning</span>\n",
    "\n",
    "<font size = \"5\">\n",
    "\n",
    "- Data collection isn't perfect!\n",
    "- Need to adjust values with incorrect formatting"
   ]
  },
  {
   "attachments": {},
   "cell_type": "markdown",
   "metadata": {},
   "source": [
    "<font size = \"5\">\n",
    "Get data types"
   ]
  },
  {
   "cell_type": "code",
   "execution_count": 6,
   "metadata": {},
   "outputs": [
    {
     "data": {
      "application/vnd.microsoft.datawrangler.viewer.v0+json": {
       "columns": [
        {
         "name": "index",
         "rawType": "object",
         "type": "string"
        },
        {
         "name": "0",
         "rawType": "object",
         "type": "unknown"
        }
       ],
       "ref": "fff35426-76c0-4dbc-9394-d815af0890e6",
       "rows": [
        [
         "circuitId",
         "int64"
        ],
        [
         "circuitRef",
         "object"
        ],
        [
         "name",
         "object"
        ],
        [
         "location",
         "object"
        ],
        [
         "country",
         "object"
        ],
        [
         "lat",
         "float64"
        ],
        [
         "lng",
         "float64"
        ],
        [
         "alt",
         "object"
        ],
        [
         "url",
         "object"
        ]
       ],
       "shape": {
        "columns": 1,
        "rows": 9
       }
      },
      "text/plain": [
       "circuitId       int64\n",
       "circuitRef     object\n",
       "name           object\n",
       "location       object\n",
       "country        object\n",
       "lat           float64\n",
       "lng           float64\n",
       "alt            object\n",
       "url            object\n",
       "dtype: object"
      ]
     },
     "execution_count": 6,
     "metadata": {},
     "output_type": "execute_result"
    }
   ],
   "source": [
    "# Produces a list with the data types of each column\n",
    "# Columns that say \"object\" have either strings or \n",
    "# a mix of string and numeric values\n",
    "\n",
    "circuits.dtypes"
   ]
  },
  {
   "attachments": {},
   "cell_type": "markdown",
   "metadata": {},
   "source": [
    "<font size = \"5\">\n",
    "\n",
    "Check rows with numeric values"
   ]
  },
  {
   "cell_type": "code",
   "execution_count": 7,
   "metadata": {},
   "outputs": [
    {
     "data": {
      "application/vnd.microsoft.datawrangler.viewer.v0+json": {
       "columns": [
        {
         "name": "index",
         "rawType": "int64",
         "type": "integer"
        },
        {
         "name": "alt",
         "rawType": "bool",
         "type": "boolean"
        }
       ],
       "ref": "4366f145-1138-48b8-8a2d-d802a02d9ae7",
       "rows": [
        [
         "0",
         "True"
        ],
        [
         "1",
         "True"
        ],
        [
         "2",
         "True"
        ],
        [
         "3",
         "True"
        ],
        [
         "4",
         "True"
        ],
        [
         "5",
         "True"
        ],
        [
         "6",
         "True"
        ],
        [
         "7",
         "True"
        ],
        [
         "8",
         "True"
        ],
        [
         "9",
         "True"
        ],
        [
         "10",
         "True"
        ],
        [
         "11",
         "True"
        ],
        [
         "12",
         "True"
        ],
        [
         "13",
         "True"
        ],
        [
         "14",
         "True"
        ],
        [
         "15",
         "True"
        ],
        [
         "16",
         "True"
        ],
        [
         "17",
         "True"
        ],
        [
         "18",
         "True"
        ],
        [
         "19",
         "True"
        ],
        [
         "20",
         "True"
        ],
        [
         "21",
         "True"
        ],
        [
         "22",
         "False"
        ],
        [
         "23",
         "True"
        ],
        [
         "24",
         "True"
        ],
        [
         "25",
         "True"
        ],
        [
         "26",
         "True"
        ],
        [
         "27",
         "True"
        ],
        [
         "28",
         "True"
        ],
        [
         "29",
         "True"
        ],
        [
         "30",
         "True"
        ],
        [
         "31",
         "True"
        ],
        [
         "32",
         "True"
        ],
        [
         "33",
         "True"
        ],
        [
         "34",
         "True"
        ],
        [
         "35",
         "True"
        ],
        [
         "36",
         "True"
        ],
        [
         "37",
         "True"
        ],
        [
         "38",
         "True"
        ],
        [
         "39",
         "True"
        ],
        [
         "40",
         "True"
        ],
        [
         "41",
         "True"
        ],
        [
         "42",
         "True"
        ],
        [
         "43",
         "True"
        ],
        [
         "44",
         "True"
        ],
        [
         "45",
         "True"
        ],
        [
         "46",
         "True"
        ],
        [
         "47",
         "True"
        ],
        [
         "48",
         "True"
        ],
        [
         "49",
         "True"
        ]
       ],
       "shape": {
        "columns": 1,
        "rows": 77
       }
      },
      "text/plain": [
       "0      True\n",
       "1      True\n",
       "2      True\n",
       "3      True\n",
       "4      True\n",
       "      ...  \n",
       "72     True\n",
       "73     True\n",
       "74     True\n",
       "75    False\n",
       "76    False\n",
       "Name: alt, Length: 77, dtype: bool"
      ]
     },
     "execution_count": 7,
     "metadata": {},
     "output_type": "execute_result"
    }
   ],
   "source": [
    "# The \".str.isnumeric()\" checks whether each row is numeric or now.\n",
    "# Using the \".\" twice is an example of \"piping\"\n",
    "# which refers to chaining two commands \"str\" and \"isnumeric()\"\n",
    "\n",
    "circuits[\"alt\"].str.isnumeric()"
   ]
  },
  {
   "attachments": {},
   "cell_type": "markdown",
   "metadata": {},
   "source": [
    "<font size = \"5\">\n",
    "\n",
    "Extract list of non-numeric values"
   ]
  },
  {
   "cell_type": "code",
   "execution_count": 8,
   "metadata": {},
   "outputs": [
    {
     "name": "stdout",
     "output_type": "stream",
     "text": [
      "['\\\\N' '-7']\n"
     ]
    }
   ],
   "source": [
    "# We can reference subattributes of columns in \".query()\"\n",
    "# The pd.unique() function extracts unique values from a list\n",
    "\n",
    "subset = circuits.query(\"alt.str.isnumeric() == False\")\n",
    "list_unique = pd.unique(subset[\"alt\"])\n",
    "print(list_unique)"
   ]
  },
  {
   "attachments": {},
   "cell_type": "markdown",
   "metadata": {},
   "source": [
    "<font size = \"5\">\n",
    "\n",
    "Replace certain values"
   ]
  },
  {
   "cell_type": "code",
   "execution_count": 9,
   "metadata": {},
   "outputs": [],
   "source": [
    "# \"list_old\" encodes values we want to change\n",
    "# \"list_new\" encodes the values that will \"replace\" the old\n",
    "list_old = ['\\\\N','-7']\n",
    "list_new = [np.nan, -7]\n",
    "\n",
    "# This command replaces the values of the \"alt\" column\n",
    "circuits[\"alt\"] = circuits[\"alt\"].replace(list_old, list_new)"
   ]
  },
  {
   "attachments": {},
   "cell_type": "markdown",
   "metadata": {},
   "source": [
    "<font size = \"5\">\n",
    "\n",
    "Store a \"cleaned\" dataset"
   ]
  },
  {
   "cell_type": "code",
   "execution_count": 15,
   "metadata": {},
   "outputs": [
    {
     "data": {
      "text/plain": [
       "circuitId       int64\n",
       "circuitRef     object\n",
       "name           object\n",
       "location       object\n",
       "country        object\n",
       "lat           float64\n",
       "lng           float64\n",
       "alt            object\n",
       "url            object\n",
       "dtype: object"
      ]
     },
     "execution_count": 15,
     "metadata": {},
     "output_type": "execute_result"
    }
   ],
   "source": [
    "circuits.dtypes"
   ]
  },
  {
   "cell_type": "code",
   "execution_count": 16,
   "metadata": {},
   "outputs": [],
   "source": [
    "# After the cleaning process is done, you may want to store the dataset again\n",
    "# It's recommended to do this in a separate file from the original\n",
    "# That way you can always go back to the original if you made a coding error\n",
    "\n",
    "circuits.to_csv(\"data_clean/circuits.csv\")"
   ]
  },
  {
   "attachments": {},
   "cell_type": "markdown",
   "metadata": {},
   "source": [
    "<font size = \"5\">\n",
    "Try it yourself!\n",
    "\n",
    "- Use \".replace()\" with the \"country\" column\n",
    "- Replace \"UK\" with \"United Kingdom\""
   ]
  },
  {
   "cell_type": "code",
   "execution_count": 11,
   "metadata": {},
   "outputs": [
    {
     "data": {
      "application/vnd.microsoft.datawrangler.viewer.v0+json": {
       "columns": [
        {
         "name": "index",
         "rawType": "int64",
         "type": "integer"
        },
        {
         "name": "country",
         "rawType": "object",
         "type": "string"
        }
       ],
       "ref": "7b5a507c-9795-4d10-9445-4260e4c9390b",
       "rows": [
        [
         "0",
         "Australia"
        ],
        [
         "1",
         "Malaysia"
        ],
        [
         "2",
         "Bahrain"
        ],
        [
         "3",
         "Spain"
        ],
        [
         "4",
         "Turkey"
        ],
        [
         "5",
         "Monaco"
        ],
        [
         "6",
         "Canada"
        ],
        [
         "7",
         "France"
        ],
        [
         "8",
         "United Kindom"
        ],
        [
         "9",
         "Germany"
        ],
        [
         "10",
         "Hungary"
        ],
        [
         "11",
         "Spain"
        ],
        [
         "12",
         "Belgium"
        ],
        [
         "13",
         "Italy"
        ],
        [
         "14",
         "Singapore"
        ],
        [
         "15",
         "Japan"
        ],
        [
         "16",
         "China"
        ],
        [
         "17",
         "Brazil"
        ],
        [
         "18",
         "USA"
        ],
        [
         "19",
         "Germany"
        ],
        [
         "20",
         "Italy"
        ],
        [
         "21",
         "Japan"
        ],
        [
         "22",
         "United States"
        ],
        [
         "23",
         "UAE"
        ],
        [
         "24",
         "Argentina"
        ],
        [
         "25",
         "Spain"
        ],
        [
         "26",
         "Portugal"
        ],
        [
         "27",
         "Japan"
        ],
        [
         "28",
         "Australia"
        ],
        [
         "29",
         "South Africa"
        ],
        [
         "30",
         "United Kindom"
        ],
        [
         "31",
         "Mexico"
        ],
        [
         "32",
         "USA"
        ],
        [
         "33",
         "France"
        ],
        [
         "34",
         "Korea"
        ],
        [
         "35",
         "Brazil"
        ],
        [
         "36",
         "USA"
        ],
        [
         "37",
         "United Kindom"
        ],
        [
         "38",
         "Netherlands"
        ],
        [
         "39",
         "Belgium"
        ],
        [
         "40",
         "France"
        ],
        [
         "41",
         "USA"
        ],
        [
         "42",
         "USA"
        ],
        [
         "43",
         "USA"
        ],
        [
         "44",
         "Spain"
        ],
        [
         "45",
         "USA"
        ],
        [
         "46",
         "Sweden"
        ],
        [
         "47",
         "Canada"
        ],
        [
         "48",
         "Spain"
        ],
        [
         "49",
         "Belgium"
        ]
       ],
       "shape": {
        "columns": 1,
        "rows": 77
       }
      },
      "text/plain": [
       "0        Australia\n",
       "1         Malaysia\n",
       "2          Bahrain\n",
       "3            Spain\n",
       "4           Turkey\n",
       "          ...     \n",
       "72        Portugal\n",
       "73           Italy\n",
       "74    Saudi Arabia\n",
       "75           Qatar\n",
       "76             USA\n",
       "Name: country, Length: 77, dtype: object"
      ]
     },
     "execution_count": 11,
     "metadata": {},
     "output_type": "execute_result"
    }
   ],
   "source": [
    "# Write your own code\n",
    "circuits[\"country\"] = circuits[\"country\"].replace(\"UK\", \"United Kindom\")\n",
    "circuits[\"country\"]"
   ]
  },
  {
   "attachments": {},
   "cell_type": "markdown",
   "metadata": {},
   "source": [
    "<font size = \"5\">\n",
    "Try it yourself!\n",
    "\n",
    "- What is the column type of \"lat\" or \"lng\"?\n",
    "- Does it have any string variables?\n",
    "- Can we use ```str.isnumeric()``` here?"
   ]
  },
  {
   "cell_type": "code",
   "execution_count": 18,
   "metadata": {},
   "outputs": [
    {
     "data": {
      "text/plain": [
       "str"
      ]
     },
     "execution_count": 18,
     "metadata": {},
     "output_type": "execute_result"
    }
   ],
   "source": [
    "type(\"lat\")\n",
    "type(\"lng\")\n",
    "\n",
    "#no we can't"
   ]
  },
  {
   "cell_type": "code",
   "execution_count": 14,
   "metadata": {},
   "outputs": [
    {
     "ename": "AttributeError",
     "evalue": "'list' object has no attribute 'dtypes'",
     "output_type": "error",
     "traceback": [
      "\u001b[0;31m---------------------------------------------------------------------------\u001b[0m",
      "\u001b[0;31mAttributeError\u001b[0m                            Traceback (most recent call last)",
      "Cell \u001b[0;32mIn[14], line 2\u001b[0m\n\u001b[1;32m      1\u001b[0m \u001b[38;5;66;03m# Write your own code\u001b[39;00m\n\u001b[0;32m----> 2\u001b[0m [\u001b[38;5;124m\"\u001b[39m\u001b[38;5;124mlat\u001b[39m\u001b[38;5;124m\"\u001b[39m]\u001b[38;5;241m.\u001b[39mdtypes\n",
      "\u001b[0;31mAttributeError\u001b[0m: 'list' object has no attribute 'dtypes'"
     ]
    }
   ],
   "source": [
    "# Write your own code\n",
    "[\"lat\"].dtypes\n",
    "\n",
    "\n"
   ]
  },
  {
   "attachments": {},
   "cell_type": "markdown",
   "metadata": {},
   "source": [
    "<font size = \"5\">"
   ]
  },
  {
   "attachments": {},
   "cell_type": "markdown",
   "metadata": {},
   "source": [
    "# <span style=\"color:darkblue\"> II. Recoding Numeric Variables </span>\n",
    "\n"
   ]
  },
  {
   "attachments": {},
   "cell_type": "markdown",
   "metadata": {},
   "source": [
    "<font size = \"5\">\n",
    "\n",
    "<span style=\"color:red\"> Controlled Pitfall </span> Computing a mean for a non-numeric column"
   ]
  },
  {
   "cell_type": "code",
   "execution_count": 22,
   "metadata": {},
   "outputs": [
    {
     "data": {
      "text/plain": [
       "dtype('O')"
      ]
     },
     "execution_count": 22,
     "metadata": {},
     "output_type": "execute_result"
    }
   ],
   "source": [
    "circuits[\"alt\"].dtype"
   ]
  },
  {
   "attachments": {},
   "cell_type": "markdown",
   "metadata": {},
   "source": [
    "<font size = \"5\">\n",
    "\n",
    "Convert column to numeric"
   ]
  },
  {
   "cell_type": "code",
   "execution_count": 20,
   "metadata": {},
   "outputs": [
    {
     "name": "stdout",
     "output_type": "stream",
     "text": [
      "248.1891891891892\n"
     ]
    }
   ],
   "source": [
    "# pd.to_numeric() converts a column to numeric\n",
    "# Before you use this option, make sure to \"clean\" the variable\n",
    "# as we did before by checking what the non-numeric values are\n",
    "\n",
    "circuits[\"alt_numeric\"] = pd.to_numeric(circuits[\"alt\"])\n",
    "print(circuits[\"alt_numeric\"].mean())"
   ]
  },
  {
   "cell_type": "code",
   "execution_count": 21,
   "metadata": {},
   "outputs": [
    {
     "data": {
      "text/plain": [
       "-7.0"
      ]
     },
     "execution_count": 21,
     "metadata": {},
     "output_type": "execute_result"
    }
   ],
   "source": [
    "circuits[\"alt_numeric\"].min()"
   ]
  },
  {
   "cell_type": "code",
   "execution_count": 22,
   "metadata": {},
   "outputs": [
    {
     "data": {
      "text/plain": [
       "2227.0"
      ]
     },
     "execution_count": 22,
     "metadata": {},
     "output_type": "execute_result"
    }
   ],
   "source": [
    "circuits[\"alt_numeric\"].max()"
   ]
  },
  {
   "attachments": {},
   "cell_type": "markdown",
   "metadata": {},
   "source": [
    "<font size = \"5\">\n",
    "\n",
    "Recode values based on an interval <br>\n",
    "\n",
    "If  ```right = True```:\n",
    "\n",
    "$ \\qquad x_{bin} = \\begin{cases} ``A\" &\\text{ if \\quad} x_1 < x \\le x_2 \\\\\n",
    "                                  ``B\" &\\text{ if \\quad} x_2 < x \\le x_3 \\end{cases} $\n",
    "\n",
    "If  ```right = False```:\n",
    "\n",
    "$ \\qquad x_{bin} = \\begin{cases} ``A\" &\\text{ if \\quad} x_1 \\le x < x_2 \\\\\n",
    "                                  ``B\" &\\text{ if \\quad} x_2 \\le x < x_3 \\end{cases} $\n"
   ]
  },
  {
   "cell_type": "code",
   "execution_count": 28,
   "metadata": {},
   "outputs": [
    {
     "data": {
      "application/vnd.microsoft.datawrangler.viewer.v0+json": {
       "columns": [
        {
         "name": "index",
         "rawType": "int64",
         "type": "integer"
        },
        {
         "name": "bins_alt",
         "rawType": "category",
         "type": "unknown"
        }
       ],
       "ref": "201fa287-37cc-45a8-a7aa-b54dee0a53af",
       "rows": [
        [
         "0",
         "Between 0 and 1800."
        ],
        [
         "1",
         "Between 0 and 1800."
        ],
        [
         "2",
         "Between 0 and 1800."
        ],
        [
         "3",
         "Between 0 and 1800."
        ],
        [
         "4",
         "Between 0 and 1800."
        ],
        [
         "5",
         "Between 0 and 1800."
        ],
        [
         "6",
         "Between 0 and 1800."
        ],
        [
         "7",
         "Between 0 and 1800."
        ],
        [
         "8",
         "Between 0 and 1800."
        ],
        [
         "9",
         "Between 0 and 1800."
        ],
        [
         "10",
         "Between 0 and 1800."
        ],
        [
         "11",
         "Between 0 and 1800."
        ],
        [
         "12",
         "Between 0 and 1800."
        ],
        [
         "13",
         "Between 0 and 1800."
        ],
        [
         "14",
         "Between 0 and 1800."
        ],
        [
         "15",
         "Between 0 and 1800."
        ],
        [
         "16",
         "Between 0 and 1800."
        ],
        [
         "17",
         "Between 0 and 1800."
        ],
        [
         "18",
         "Between 0 and 1800."
        ],
        [
         "19",
         "Between 0 and 1800."
        ],
        [
         "20",
         "Between 0 and 1800."
        ],
        [
         "21",
         "Between 0 and 1800."
        ],
        [
         "22",
         null
        ],
        [
         "23",
         "Between 0 and 1800."
        ],
        [
         "24",
         "Between 0 and 1800."
        ],
        [
         "25",
         "Between 0 and 1800."
        ],
        [
         "26",
         "Between 0 and 1800."
        ],
        [
         "27",
         "Between 0 and 1800."
        ],
        [
         "28",
         "Between 0 and 1800."
        ],
        [
         "29",
         "Between 0 and 1800."
        ],
        [
         "30",
         "Between 0 and 1800."
        ],
        [
         "31",
         "Between 1800 and 5000"
        ],
        [
         "32",
         "Between 0 and 1800."
        ],
        [
         "33",
         "Between 0 and 1800."
        ],
        [
         "34",
         null
        ],
        [
         "35",
         "Between 0 and 1800."
        ],
        [
         "36",
         "Between 0 and 1800."
        ],
        [
         "37",
         "Between 0 and 1800."
        ],
        [
         "38",
         "Between 0 and 1800."
        ],
        [
         "39",
         "Between 0 and 1800."
        ],
        [
         "40",
         "Between 0 and 1800."
        ],
        [
         "41",
         "Between 0 and 1800."
        ],
        [
         "42",
         "Between 0 and 1800."
        ],
        [
         "43",
         "Between 0 and 1800."
        ],
        [
         "44",
         "Between 0 and 1800."
        ],
        [
         "45",
         "Between 0 and 1800."
        ],
        [
         "46",
         "Between 0 and 1800."
        ],
        [
         "47",
         "Between 0 and 1800."
        ],
        [
         "48",
         "Between 0 and 1800."
        ],
        [
         "49",
         "Between 0 and 1800."
        ]
       ],
       "shape": {
        "columns": 1,
        "rows": 77
       }
      },
      "text/plain": [
       "0     Between 0 and 1800.\n",
       "1     Between 0 and 1800.\n",
       "2     Between 0 and 1800.\n",
       "3     Between 0 and 1800.\n",
       "4     Between 0 and 1800.\n",
       "             ...         \n",
       "72    Between 0 and 1800.\n",
       "73    Between 0 and 1800.\n",
       "74    Between 0 and 1800.\n",
       "75                    NaN\n",
       "76                    NaN\n",
       "Name: bins_alt, Length: 77, dtype: category\n",
       "Categories (2, object): ['Between 0 and 1800.' < 'Between 1800 and 5000']"
      ]
     },
     "execution_count": 28,
     "metadata": {},
     "output_type": "execute_result"
    }
   ],
   "source": [
    "bins_x = [0,1800,5000]\n",
    "labels_x = [\"Between 0 and 1800.\",\n",
    "            \"Between 1800 and 5000\"]\n",
    "\n",
    "circuits[\"bins_alt\"] = pd.cut(circuits[\"alt_numeric\"],\n",
    "                              bins = bins_x,\n",
    "                              right = True,\n",
    "                              labels = labels_x)\n",
    "\n",
    "# Note: if we set bins_x = [float(\"-inf\"),2500, float(\"inf\")]\n",
    "#       then intervals are \"Less than or equal to 2500\" and \"Above 2500\"\n",
    "#       float(\"inf\") and float(\"-inf\") represent infinity and negative infinity\n",
    "#       The \"right\" command indicates that the right interval is\n",
    "#       \"less than or equal to\" or just \"less than\"\n",
    "circuits[\"bins_alt\"]"
   ]
  },
  {
   "cell_type": "code",
   "execution_count": 25,
   "metadata": {},
   "outputs": [],
   "source": [
    "c2 = circuits[circuits['alt_numeric']>10].copy()"
   ]
  },
  {
   "cell_type": "code",
   "execution_count": 26,
   "metadata": {},
   "outputs": [],
   "source": [
    "c2.loc[c2['circuitId'] == 4, 'name'] = 'other name'"
   ]
  },
  {
   "attachments": {},
   "cell_type": "markdown",
   "metadata": {},
   "source": [
    "<font size = \"5\">\n",
    "Try it yourself!\n",
    "\n",
    "- Create a new variable \"hemisphere\"\n",
    "- Encode lattitude in (-90 and 0] as \"south\"\n",
    "- Encode lattitude in (0 and 90] as \"north\""
   ]
  },
  {
   "cell_type": "code",
   "execution_count": 30,
   "metadata": {},
   "outputs": [
    {
     "data": {
      "application/vnd.microsoft.datawrangler.viewer.v0+json": {
       "columns": [
        {
         "name": "index",
         "rawType": "int64",
         "type": "integer"
        },
        {
         "name": "hemisphere",
         "rawType": "category",
         "type": "unknown"
        }
       ],
       "ref": "323454a8-50f7-4052-b6c2-e25ab1d62c34",
       "rows": [
        [
         "0",
         "Between -90 and 0"
        ],
        [
         "1",
         "Between 0 and 90"
        ],
        [
         "2",
         "Between 0 and 90"
        ],
        [
         "3",
         "Between 0 and 90"
        ],
        [
         "4",
         "Between 0 and 90"
        ],
        [
         "5",
         "Between 0 and 90"
        ],
        [
         "6",
         "Between 0 and 90"
        ],
        [
         "7",
         "Between 0 and 90"
        ],
        [
         "8",
         "Between 0 and 90"
        ],
        [
         "9",
         "Between 0 and 90"
        ],
        [
         "10",
         "Between 0 and 90"
        ],
        [
         "11",
         "Between 0 and 90"
        ],
        [
         "12",
         "Between 0 and 90"
        ],
        [
         "13",
         "Between 0 and 90"
        ],
        [
         "14",
         "Between 0 and 90"
        ],
        [
         "15",
         "Between 0 and 90"
        ],
        [
         "16",
         "Between 0 and 90"
        ],
        [
         "17",
         "Between -90 and 0"
        ],
        [
         "18",
         "Between 0 and 90"
        ],
        [
         "19",
         "Between 0 and 90"
        ],
        [
         "20",
         "Between 0 and 90"
        ],
        [
         "21",
         "Between 0 and 90"
        ],
        [
         "22",
         "Between 0 and 90"
        ],
        [
         "23",
         "Between 0 and 90"
        ],
        [
         "24",
         "Between -90 and 0"
        ],
        [
         "25",
         "Between 0 and 90"
        ],
        [
         "26",
         "Between 0 and 90"
        ],
        [
         "27",
         "Between 0 and 90"
        ],
        [
         "28",
         "Between -90 and 0"
        ],
        [
         "29",
         "Between -90 and 0"
        ],
        [
         "30",
         "Between 0 and 90"
        ],
        [
         "31",
         "Between 0 and 90"
        ],
        [
         "32",
         "Between 0 and 90"
        ],
        [
         "33",
         "Between 0 and 90"
        ],
        [
         "34",
         "Between 0 and 90"
        ],
        [
         "35",
         "Between -90 and 0"
        ],
        [
         "36",
         "Between 0 and 90"
        ],
        [
         "37",
         "Between 0 and 90"
        ],
        [
         "38",
         "Between 0 and 90"
        ],
        [
         "39",
         "Between 0 and 90"
        ],
        [
         "40",
         "Between 0 and 90"
        ],
        [
         "41",
         "Between 0 and 90"
        ],
        [
         "42",
         "Between 0 and 90"
        ],
        [
         "43",
         "Between 0 and 90"
        ],
        [
         "44",
         "Between 0 and 90"
        ],
        [
         "45",
         "Between 0 and 90"
        ],
        [
         "46",
         "Between 0 and 90"
        ],
        [
         "47",
         "Between 0 and 90"
        ],
        [
         "48",
         "Between 0 and 90"
        ],
        [
         "49",
         "Between 0 and 90"
        ]
       ],
       "shape": {
        "columns": 1,
        "rows": 77
       }
      },
      "text/plain": [
       "0     Between -90 and 0\n",
       "1      Between 0 and 90\n",
       "2      Between 0 and 90\n",
       "3      Between 0 and 90\n",
       "4      Between 0 and 90\n",
       "            ...        \n",
       "72     Between 0 and 90\n",
       "73     Between 0 and 90\n",
       "74     Between 0 and 90\n",
       "75     Between 0 and 90\n",
       "76     Between 0 and 90\n",
       "Name: hemisphere, Length: 77, dtype: category\n",
       "Categories (2, object): ['Between -90 and 0' < 'Between 0 and 90']"
      ]
     },
     "execution_count": 30,
     "metadata": {},
     "output_type": "execute_result"
    }
   ],
   "source": [
    "# Write your own code\n",
    "bins_h = [-90, 0, 90]\n",
    "labels_h = [\"Between -90 and 0\",\n",
    "            \"Between 0 and 90\"]\n",
    "circuits[\"hemisphere\"] = pd.cut(circuits[\"lat\"],\n",
    "                                bins = bins_h,\n",
    "                                right = True,\n",
    "                                labels = labels_h)\n",
    "circuits[\"hemisphere\"]\n",
    "\n",
    "\n",
    "\n",
    "\n"
   ]
  }
 ],
 "metadata": {
  "kernelspec": {
   "display_name": "base",
   "language": "python",
   "name": "python3"
  },
  "language_info": {
   "codemirror_mode": {
    "name": "ipython",
    "version": 3
   },
   "file_extension": ".py",
   "mimetype": "text/x-python",
   "name": "python",
   "nbconvert_exporter": "python",
   "pygments_lexer": "ipython3",
   "version": "3.11.5"
  },
  "orig_nbformat": 4,
  "vscode": {
   "interpreter": {
    "hash": "45fc1f684f6f416f40889115beff3ddf69879b64cf4bfee48cb72a61e9d15d1a"
   }
  }
 },
 "nbformat": 4,
 "nbformat_minor": 2
}
